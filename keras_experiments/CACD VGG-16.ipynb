{
 "cells": [
  {
   "cell_type": "markdown",
   "metadata": {},
   "source": [
    "# CACD: VGG-16"
   ]
  },
  {
   "cell_type": "code",
   "execution_count": 1,
   "metadata": {},
   "outputs": [
    {
     "name": "stderr",
     "output_type": "stream",
     "text": [
      "C:\\Users\\HP\\Anaconda3\\lib\\site-packages\\h5py\\__init__.py:36: FutureWarning: Conversion of the second argument of issubdtype from `float` to `np.floating` is deprecated. In future, it will be treated as `np.float64 == np.dtype(float).type`.\n",
      "  from ._conv import register_converters as _register_converters\n",
      "Using TensorFlow backend.\n"
     ]
    },
    {
     "name": "stdout",
     "output_type": "stream",
     "text": [
      "Found 145482 images belonging to 49 classes.\n",
      "Found 15893 images belonging to 49 classes.\n"
     ]
    }
   ],
   "source": [
    "import keras\n",
    "import os, shutil\n",
    "from keras import models, layers, losses, optimizers, metrics\n",
    "from keras.preprocessing.image import ImageDataGenerator\n",
    "from keras import backend as K\n",
    "%matplotlib inline\n",
    "\n",
    "train_dir = 'data\\\\CACD\\\\train'\n",
    "test_dir = 'data\\\\CACD\\\\test'\n",
    "\n",
    "train_datagen = ImageDataGenerator(rescale=1./255)\n",
    "test_datagen = ImageDataGenerator(rescale=1./255)\n",
    "\n",
    "train_generator = train_datagen.flow_from_directory(\n",
    "    train_dir, \n",
    "    target_size=(150, 150), \n",
    "    batch_size=64\n",
    ")\n",
    "\n",
    "test_generator = test_datagen.flow_from_directory(\n",
    "    test_dir, \n",
    "    target_size=(150, 150), \n",
    "    batch_size=64\n",
    ")"
   ]
  },
  {
   "cell_type": "markdown",
   "metadata": {
    "nbpresent": {
     "id": "b527b4b7-7503-4262-9b13-2e79c663e339"
    }
   },
   "source": [
    "# Defining custom metrix"
   ]
  },
  {
   "cell_type": "code",
   "execution_count": 2,
   "metadata": {
    "nbpresent": {
     "id": "c87a39f2-ce0b-4362-b81b-776be38e7f1d"
    }
   },
   "outputs": [],
   "source": [
    "def five_claas_diff(y_true, y_pred):\n",
    "    return K.cast(K.abs(K.argmax(y_true, axis=-1) - K.argmax(y_pred, axis=-1)) <= 5,\n",
    "                  K.floatx())\n",
    "\n",
    "def ten_claas_diff(y_true, y_pred):\n",
    "    return K.cast(K.abs(K.argmax(y_true, axis=-1) - K.argmax(y_pred, axis=-1)) <= 10,\n",
    "                  K.floatx())\n"
   ]
  },
  {
   "cell_type": "code",
   "execution_count": 4,
   "metadata": {
    "nbpresent": {
     "id": "7a740cdd-b220-4f8c-9f00-b04ec0c0e428"
    }
   },
   "outputs": [
    {
     "name": "stdout",
     "output_type": "stream",
     "text": [
      "_________________________________________________________________\n",
      "Layer (type)                 Output Shape              Param #   \n",
      "=================================================================\n",
      "input_2 (InputLayer)         (None, 150, 150, 3)       0         \n",
      "_________________________________________________________________\n",
      "block1_conv1 (Conv2D)        (None, 150, 150, 64)      1792      \n",
      "_________________________________________________________________\n",
      "block1_conv2 (Conv2D)        (None, 150, 150, 64)      36928     \n",
      "_________________________________________________________________\n",
      "block1_pool (MaxPooling2D)   (None, 75, 75, 64)        0         \n",
      "_________________________________________________________________\n",
      "block2_conv1 (Conv2D)        (None, 75, 75, 128)       73856     \n",
      "_________________________________________________________________\n",
      "block2_conv2 (Conv2D)        (None, 75, 75, 128)       147584    \n",
      "_________________________________________________________________\n",
      "block2_pool (MaxPooling2D)   (None, 37, 37, 128)       0         \n",
      "_________________________________________________________________\n",
      "block3_conv1 (Conv2D)        (None, 37, 37, 256)       295168    \n",
      "_________________________________________________________________\n",
      "block3_conv2 (Conv2D)        (None, 37, 37, 256)       590080    \n",
      "_________________________________________________________________\n",
      "block3_conv3 (Conv2D)        (None, 37, 37, 256)       590080    \n",
      "_________________________________________________________________\n",
      "block3_pool (MaxPooling2D)   (None, 18, 18, 256)       0         \n",
      "_________________________________________________________________\n",
      "block4_conv1 (Conv2D)        (None, 18, 18, 512)       1180160   \n",
      "_________________________________________________________________\n",
      "block4_conv2 (Conv2D)        (None, 18, 18, 512)       2359808   \n",
      "_________________________________________________________________\n",
      "block4_conv3 (Conv2D)        (None, 18, 18, 512)       2359808   \n",
      "_________________________________________________________________\n",
      "block4_pool (MaxPooling2D)   (None, 9, 9, 512)         0         \n",
      "_________________________________________________________________\n",
      "block5_conv1 (Conv2D)        (None, 9, 9, 512)         2359808   \n",
      "_________________________________________________________________\n",
      "block5_conv2 (Conv2D)        (None, 9, 9, 512)         2359808   \n",
      "_________________________________________________________________\n",
      "block5_conv3 (Conv2D)        (None, 9, 9, 512)         2359808   \n",
      "_________________________________________________________________\n",
      "block5_pool (MaxPooling2D)   (None, 4, 4, 512)         0         \n",
      "=================================================================\n",
      "Total params: 14,714,688\n",
      "Trainable params: 14,714,688\n",
      "Non-trainable params: 0\n",
      "_________________________________________________________________\n"
     ]
    }
   ],
   "source": [
    "from keras.applications import VGG16\n",
    "\n",
    "conv_base = VGG16(weights='imagenet',\n",
    "                 include_top=False,\n",
    "                 input_shape=(150, 150, 3))\n",
    "                 \n",
    "conv_base.summary()"
   ]
  },
  {
   "cell_type": "code",
   "execution_count": 6,
   "metadata": {},
   "outputs": [
    {
     "name": "stdout",
     "output_type": "stream",
     "text": [
      "_________________________________________________________________\n",
      "Layer (type)                 Output Shape              Param #   \n",
      "=================================================================\n",
      "vgg16 (Model)                (None, 4, 4, 512)         14714688  \n",
      "_________________________________________________________________\n",
      "flatten_1 (Flatten)          (None, 8192)              0         \n",
      "_________________________________________________________________\n",
      "dense_1 (Dense)              (None, 512)               4194816   \n",
      "_________________________________________________________________\n",
      "dense_2 (Dense)              (None, 49)                25137     \n",
      "=================================================================\n",
      "Total params: 18,934,641\n",
      "Trainable params: 4,219,953\n",
      "Non-trainable params: 14,714,688\n",
      "_________________________________________________________________\n"
     ]
    }
   ],
   "source": [
    "model = models.Sequential()\n",
    "\n",
    "model.add(conv_base)\n",
    "model.add(layers.Flatten())\n",
    "model.add(layers.Dense(512, activation='relu'))\n",
    "model.add(layers.Dense(49, activation='softmax'))\n",
    "model.summary()"
   ]
  },
  {
   "cell_type": "code",
   "execution_count": 7,
   "metadata": {
    "nbpresent": {
     "id": "70c2499f-5f23-4c74-a677-2c95ce180fb3"
    }
   },
   "outputs": [
    {
     "name": "stdout",
     "output_type": "stream",
     "text": [
      "This is the number of trainable weights before freezing the conv base: 4\n",
      "Epoch 1/2\n",
      "2275/2275 [==============================] - 581s 255ms/step - loss: 3.7012 - categorical_accuracy: 0.0404 - five_claas_diff: 0.3986 - ten_claas_diff: 0.6524 - val_loss: 3.6319 - val_categorical_accuracy: 0.0474 - val_five_claas_diff: 0.4447 - val_ten_claas_diff: 0.6979\n",
      "Epoch 2/2\n",
      "2275/2275 [==============================] - 346s 152ms/step - loss: 3.5812 - categorical_accuracy: 0.0563 - five_claas_diff: 0.4466 - ten_claas_diff: 0.6995 - val_loss: 3.5997 - val_categorical_accuracy: 0.0464 - val_five_claas_diff: 0.4399 - val_ten_claas_diff: 0.6862\n"
     ]
    }
   ],
   "source": [
    "conv_base.trainable = False\n",
    "print('This is the number of trainable weights before freezing the conv base:', len(model.trainable_weights))\n",
    "\n",
    "model.compile(\n",
    "    optimizer=optimizers.RMSprop(lr=1e-4), \n",
    "    loss=losses.categorical_crossentropy, \n",
    "    metrics=[metrics.categorical_accuracy, five_claas_diff, ten_claas_diff]\n",
    ")\n",
    "\n",
    "history = model.fit_generator(train_generator, \n",
    "                              steps_per_epoch=2275, \n",
    "                              epochs=2, \n",
    "                              validation_data=test_generator,\n",
    "                              validation_steps=250)"
   ]
  },
  {
   "cell_type": "code",
   "execution_count": 8,
   "metadata": {},
   "outputs": [],
   "source": [
    "from keras.models import load_model\n",
    "try:\n",
    "    model = load_model('checkpoints\\\\cacd_vgg_16.h5', custom_objects={'five_claas_diff': five_claas_diff, 'ten_claas_diff':ten_claas_diff})\n",
    "except:\n",
    "    pass"
   ]
  },
  {
   "cell_type": "markdown",
   "metadata": {
    "nbpresent": {
     "id": "6d025a19-0d6c-4b09-8c28-c9d1aff7fb93"
    }
   },
   "source": [
    "# Fine tuning"
   ]
  },
  {
   "cell_type": "code",
   "execution_count": null,
   "metadata": {
    "nbpresent": {
     "id": "8b269e69-67ab-4921-bfef-084b23d17519"
    }
   },
   "outputs": [
    {
     "name": "stdout",
     "output_type": "stream",
     "text": [
      "Epoch 1/30\n",
      "2275/2275 [==============================] - 918s 404ms/step - loss: 3.5077 - categorical_accuracy: 0.0505 - five_claas_diff: 0.4931 - ten_claas_diff: 0.7583 - val_loss: 3.3441 - val_categorical_accuracy: 0.0636 - val_five_claas_diff: 0.5949 - val_ten_claas_diff: 0.8564\n",
      "Epoch 2/30\n",
      "2275/2275 [==============================] - 913s 401ms/step - loss: 3.2997 - categorical_accuracy: 0.0675 - five_claas_diff: 0.6115 - ten_claas_diff: 0.8633 - val_loss: 3.2591 - val_categorical_accuracy: 0.0706 - val_five_claas_diff: 0.6376 - val_ten_claas_diff: 0.8708\n",
      "Epoch 3/30\n",
      "2275/2275 [==============================] - 913s 401ms/step - loss: 3.1959 - categorical_accuracy: 0.0779 - five_claas_diff: 0.6677 - ten_claas_diff: 0.8918 - val_loss: 3.2335 - val_categorical_accuracy: 0.0732 - val_five_claas_diff: 0.6546 - val_ten_claas_diff: 0.8875\n",
      "Epoch 4/30\n",
      "2275/2275 [==============================] - 913s 401ms/step - loss: 3.1035 - categorical_accuracy: 0.0863 - five_claas_diff: 0.7105 - ten_claas_diff: 0.9116 - val_loss: 3.2103 - val_categorical_accuracy: 0.0759 - val_five_claas_diff: 0.6747 - val_ten_claas_diff: 0.8889\n",
      "Epoch 5/30\n",
      "2275/2275 [==============================] - 913s 401ms/step - loss: 3.0056 - categorical_accuracy: 0.1001 - five_claas_diff: 0.7518 - ten_claas_diff: 0.9276 - val_loss: 3.2865 - val_categorical_accuracy: 0.0789 - val_five_claas_diff: 0.6692 - val_ten_claas_diff: 0.8911\n",
      "Epoch 6/30\n",
      "2275/2275 [==============================] - 913s 401ms/step - loss: 2.9008 - categorical_accuracy: 0.1141 - five_claas_diff: 0.7896 - ten_claas_diff: 0.9419 - val_loss: 3.3179 - val_categorical_accuracy: 0.0780 - val_five_claas_diff: 0.6751 - val_ten_claas_diff: 0.8959\n",
      "Epoch 7/30\n",
      "2274/2275 [============================>.] - ETA: 0s - loss: 2.7932 - categorical_accuracy: 0.1288 - five_claas_diff: 0.8241 - ten_claas_diff: 0.9525"
     ]
    }
   ],
   "source": [
    "conv_base.trainable = True\n",
    "# set_trainable = False\n",
    "# for layer in conv_base.layers:\n",
    "#     if layer.name == 'block5_conv1':\n",
    "#         set_trainable = True\n",
    "#     if set_trainable:\n",
    "#         layer.trainable = True\n",
    "#     else:\n",
    "#         layer.trainable = False  \n",
    "\n",
    "model.compile(\n",
    "    optimizer=optimizers.RMSprop(lr=1e-4), \n",
    "    loss=losses.categorical_crossentropy, \n",
    "    metrics=[metrics.categorical_accuracy, five_claas_diff, ten_claas_diff]\n",
    ")\n",
    "\n",
    "history = model.fit_generator(train_generator, \n",
    "                              steps_per_epoch=2275, \n",
    "                              epochs=30, \n",
    "                              validation_data=test_generator, \n",
    "                              callbacks=[\n",
    "                                  keras.callbacks.ModelCheckpoint('checkpoints\\\\cacd_vgg_16.h5', monitor='val_loss', verbose=0, save_best_only=True, save_weights_only=False, mode='auto', period=1),\n",
    "                              ],\n",
    "                              validation_steps=250)"
   ]
  },
  {
   "cell_type": "code",
   "execution_count": null,
   "metadata": {
    "nbpresent": {
     "id": "f880666d-d2c1-4c70-ae02-0ef8ea02f4df"
    }
   },
   "outputs": [],
   "source": [
    "import matplotlib.pyplot as plt\n",
    "\n",
    "acc = history.history['categorical_accuracy']\n",
    "val_acc = history.history['val_categorical_accuracy']\n",
    "val_5_acc = history.history['val_five_claas_diff']\n",
    "val_10_acc = history.history['val_ten_claas_diff']\n",
    "loss = history.history['loss']\n",
    "val_loss = history.history['val_loss']\n",
    "\n",
    "epochs = range(1, len(acc)+1)\n",
    "\n",
    "plt.plot(epochs, acc, 'bo', label='Training acc')\n",
    "plt.plot(epochs, val_acc, 'b', label='Validation acc')\n",
    "plt.plot(epochs, val_5_acc, 'r', label='5 class val acc')\n",
    "plt.plot(epochs, val_10_acc, 'g', label='10 class val acc')\n",
    "plt.title('Training and validation accuracy')\n",
    "plt.legend()\n",
    "\n",
    "plt.figure()\n",
    "plt.plot(epochs, loss, 'bo', label='Training losses')\n",
    "plt.plot(epochs, val_loss, 'b', label='Validation losses')\n",
    "plt.title('Training and validation loss')\n",
    "plt.legend()\n",
    "\n",
    "plt.show()"
   ]
  },
  {
   "cell_type": "code",
   "execution_count": null,
   "metadata": {},
   "outputs": [],
   "source": []
  }
 ],
 "metadata": {
  "anaconda-cloud": {},
  "kernelspec": {
   "display_name": "Python 3",
   "language": "python",
   "name": "python3"
  },
  "language_info": {
   "codemirror_mode": {
    "name": "ipython",
    "version": 3
   },
   "file_extension": ".py",
   "mimetype": "text/x-python",
   "name": "python",
   "nbconvert_exporter": "python",
   "pygments_lexer": "ipython3",
   "version": "3.6.5"
  },
  "nbpresent": {
   "slides": {
    "08b382d4-7cfd-44b7-ba86-5aaf1bdf7467": {
     "id": "08b382d4-7cfd-44b7-ba86-5aaf1bdf7467",
     "prev": "b788fbf4-2e2d-4ada-af60-d4ffb118b8dd",
     "regions": {
      "ebb25d97-f547-4bdf-8499-c4057cb4bd27": {
       "attrs": {
        "height": 0.8,
        "width": 0.8,
        "x": 0.1,
        "y": 0.1
       },
       "content": {
        "cell": "7a740cdd-b220-4f8c-9f00-b04ec0c0e428",
        "part": "whole"
       },
       "id": "ebb25d97-f547-4bdf-8499-c4057cb4bd27"
      }
     }
    },
    "2b6954a5-c5a8-4327-93c0-2139ba2ae502": {
     "id": "2b6954a5-c5a8-4327-93c0-2139ba2ae502",
     "prev": "57cd3675-b5ed-4d54-af9a-561a18aff854",
     "regions": {
      "291a451e-25e1-4e5b-b371-0690f1393d52": {
       "attrs": {
        "height": 0.8,
        "width": 0.8,
        "x": 0.1,
        "y": 0.1
       },
       "content": {
        "cell": "34084263-e47e-4396-86d3-6cd1ec6021f3",
        "part": "whole"
       },
       "id": "291a451e-25e1-4e5b-b371-0690f1393d52"
      }
     }
    },
    "2eab4f0d-0f96-43ba-90fd-f8a12143e0a2": {
     "id": "2eab4f0d-0f96-43ba-90fd-f8a12143e0a2",
     "prev": "d06d8163-b12b-4bee-aa58-b51885ec8ca3",
     "regions": {
      "40e5ba35-1251-49fc-b406-a37f18638b3e": {
       "attrs": {
        "height": 0.8,
        "width": 0.8,
        "x": 0.1,
        "y": 0.1
       },
       "content": {
        "cell": "a3b5d8fc-2ba0-4774-96cf-7552f2573184",
        "part": "whole"
       },
       "id": "40e5ba35-1251-49fc-b406-a37f18638b3e"
      }
     }
    },
    "431515f5-42f2-45c6-99ff-e95b72a3c71f": {
     "id": "431515f5-42f2-45c6-99ff-e95b72a3c71f",
     "prev": "570380d5-aa9d-4276-b72c-418d9d27866a",
     "regions": {
      "ac8d77d9-85f7-4760-bd72-aea876f046ea": {
       "attrs": {
        "height": 0.8,
        "width": 0.8,
        "x": 0.1,
        "y": 0.1
       },
       "content": {
        "cell": "3391e66e-8e74-4c8f-9ab0-6e5a3c5db925",
        "part": "whole"
       },
       "id": "ac8d77d9-85f7-4760-bd72-aea876f046ea"
      }
     }
    },
    "47c13b32-91a7-41d8-855b-62c2c979f4e6": {
     "id": "47c13b32-91a7-41d8-855b-62c2c979f4e6",
     "prev": "8c6657ca-9799-4e91-9249-344b9aa32638",
     "regions": {
      "b1a87982-1652-40f0-b348-70be73820afa": {
       "attrs": {
        "height": 0.8,
        "width": 0.8,
        "x": 0.1,
        "y": 0.1
       },
       "content": {
        "cell": "6d025a19-0d6c-4b09-8c28-c9d1aff7fb93",
        "part": "whole"
       },
       "id": "b1a87982-1652-40f0-b348-70be73820afa"
      }
     }
    },
    "570380d5-aa9d-4276-b72c-418d9d27866a": {
     "id": "570380d5-aa9d-4276-b72c-418d9d27866a",
     "prev": "08b382d4-7cfd-44b7-ba86-5aaf1bdf7467",
     "regions": {
      "2456fa97-5abb-452a-be94-beb3b915f326": {
       "attrs": {
        "height": 0.8,
        "width": 0.8,
        "x": 0.1,
        "y": 0.1
       },
       "content": {
        "cell": "70c2499f-5f23-4c74-a677-2c95ce180fb3",
        "part": "whole"
       },
       "id": "2456fa97-5abb-452a-be94-beb3b915f326"
      }
     }
    },
    "57cd3675-b5ed-4d54-af9a-561a18aff854": {
     "id": "57cd3675-b5ed-4d54-af9a-561a18aff854",
     "prev": "6f88066c-f841-438a-93df-9de4e1154017",
     "regions": {
      "6a48b604-6cc5-47f6-b0cd-196ff87b3b3d": {
       "attrs": {
        "height": 0.8,
        "width": 0.8,
        "x": 0.1,
        "y": 0.1
       },
       "content": {
        "cell": "f880666d-d2c1-4c70-ae02-0ef8ea02f4df",
        "part": "whole"
       },
       "id": "6a48b604-6cc5-47f6-b0cd-196ff87b3b3d"
      }
     }
    },
    "6f88066c-f841-438a-93df-9de4e1154017": {
     "id": "6f88066c-f841-438a-93df-9de4e1154017",
     "prev": "47c13b32-91a7-41d8-855b-62c2c979f4e6",
     "regions": {
      "c1b59b07-fb9b-4b29-b007-5c3d89c6d0f0": {
       "attrs": {
        "height": 0.8,
        "width": 0.8,
        "x": 0.1,
        "y": 0.1
       },
       "content": {
        "cell": "8b269e69-67ab-4921-bfef-084b23d17519",
        "part": "whole"
       },
       "id": "c1b59b07-fb9b-4b29-b007-5c3d89c6d0f0"
      }
     }
    },
    "79483e70-5d71-4c16-843c-2d6c05625b0b": {
     "id": "79483e70-5d71-4c16-843c-2d6c05625b0b",
     "prev": null,
     "regions": {
      "caa824ad-98ed-40c2-8108-69dd8b61014e": {
       "attrs": {
        "height": 0.8,
        "width": 0.8,
        "x": 0.1,
        "y": 0.1
       },
       "content": {
        "cell": "e5c51cfa-6c5e-4513-b67d-652d9be348a3",
        "part": "whole"
       },
       "id": "caa824ad-98ed-40c2-8108-69dd8b61014e"
      }
     }
    },
    "8c6657ca-9799-4e91-9249-344b9aa32638": {
     "id": "8c6657ca-9799-4e91-9249-344b9aa32638",
     "prev": "905cabf5-5242-4aae-bd5e-6b60b6fcf51b",
     "regions": {
      "be418888-a97b-4a77-a770-79320ecdbbbf": {
       "attrs": {
        "height": 0.8,
        "width": 0.8,
        "x": 0.1,
        "y": 0.1
       },
       "content": {
        "cell": "487646b7-6ddb-49cb-91e0-60e194238fb7",
        "part": "whole"
       },
       "id": "be418888-a97b-4a77-a770-79320ecdbbbf"
      }
     }
    },
    "905cabf5-5242-4aae-bd5e-6b60b6fcf51b": {
     "id": "905cabf5-5242-4aae-bd5e-6b60b6fcf51b",
     "prev": "431515f5-42f2-45c6-99ff-e95b72a3c71f",
     "regions": {
      "19fec759-54e3-425e-97ef-c01d2b0c3d79": {
       "attrs": {
        "height": 0.8,
        "width": 0.8,
        "x": 0.1,
        "y": 0.1
       },
       "content": {
        "cell": "64ee59f5-1121-4928-932b-0c623008905c",
        "part": "whole"
       },
       "id": "19fec759-54e3-425e-97ef-c01d2b0c3d79"
      }
     }
    },
    "b788fbf4-2e2d-4ada-af60-d4ffb118b8dd": {
     "id": "b788fbf4-2e2d-4ada-af60-d4ffb118b8dd",
     "prev": "b7a4b19d-ff68-4c08-a4ec-b541f3f57628",
     "regions": {
      "6decc806-82f8-4f74-a04d-5225fdbcb592": {
       "attrs": {
        "height": 0.8,
        "width": 0.8,
        "x": 0.1,
        "y": 0.1
       },
       "content": {
        "cell": "c87a39f2-ce0b-4362-b81b-776be38e7f1d",
        "part": "whole"
       },
       "id": "6decc806-82f8-4f74-a04d-5225fdbcb592"
      }
     }
    },
    "b7a4b19d-ff68-4c08-a4ec-b541f3f57628": {
     "id": "b7a4b19d-ff68-4c08-a4ec-b541f3f57628",
     "prev": "2eab4f0d-0f96-43ba-90fd-f8a12143e0a2",
     "regions": {
      "61035287-28b7-4d76-b4b2-b7141e8bd6de": {
       "attrs": {
        "height": 0.8,
        "width": 0.8,
        "x": 0.1,
        "y": 0.1
       },
       "content": {
        "cell": "b527b4b7-7503-4262-9b13-2e79c663e339",
        "part": "whole"
       },
       "id": "61035287-28b7-4d76-b4b2-b7141e8bd6de"
      }
     }
    },
    "d06d8163-b12b-4bee-aa58-b51885ec8ca3": {
     "id": "d06d8163-b12b-4bee-aa58-b51885ec8ca3",
     "prev": "79483e70-5d71-4c16-843c-2d6c05625b0b",
     "regions": {
      "321fb641-30a8-4d25-8af7-97ce397f44bb": {
       "attrs": {
        "height": 0.8,
        "width": 0.8,
        "x": 0.1,
        "y": 0.1
       },
       "content": {
        "cell": "56968b8c-d213-4d1d-b337-bc4ffec29a11",
        "part": "whole"
       },
       "id": "321fb641-30a8-4d25-8af7-97ce397f44bb"
      }
     }
    }
   },
   "themes": {}
  }
 },
 "nbformat": 4,
 "nbformat_minor": 2
}
