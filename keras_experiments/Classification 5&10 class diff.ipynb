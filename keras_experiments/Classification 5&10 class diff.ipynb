{
 "cells": [
  {
   "cell_type": "markdown",
   "metadata": {},
   "source": [
    "# Data preprocess"
   ]
  },
  {
   "cell_type": "code",
   "execution_count": 1,
   "metadata": {},
   "outputs": [],
   "source": [
    "import os\n",
    "from math import floor \n",
    "from random import shuffle\n",
    "import shutil\n",
    "\n",
    "#Modify and Run this cell making new folders\n",
    "\n",
    "def createFolder(directory):\n",
    "    try:\n",
    "        if not os.path.exists(directory):\n",
    "            os.makedirs(directory)\n",
    "    except OSError:\n",
    "        print ('Error: Creating directory. ' +  directory)\n",
    "        \n",
    "\n",
    "for i in range(14,63):\n",
    "    createFolder('E:\\\\Datasets\\\\CACD\\\\train\\\\'+str(i))\n",
    "    createFolder('E:\\\\Datasets\\\\CACD\\\\test\\\\'+str(i))"
   ]
  },
  {
   "cell_type": "code",
   "execution_count": null,
   "metadata": {},
   "outputs": [],
   "source": [
    "root_dir = \"D:\\\\Dataset\\\\Face dataset\\\\CACD2000\"\n",
    "list_dir = os.listdir(root_dir)\n",
    "\n",
    "\n",
    "def get_train_test(data_list):\n",
    "    split = 0.9\n",
    "    index = floor(len(data_list)*split)\n",
    "    training_data = data_list[:index]\n",
    "    testing_data = data_list[index:]\n",
    "    return training_data, testing_data\n",
    "\n",
    "age_dit = {}\n",
    "\n",
    "for j in range(14,63):\n",
    "    ls = list()\n",
    "    for i in range(0,len(list_dir)):\n",
    "        if(j==int(list_dir[i][0:2])):\n",
    "            ls.append(list_dir[i])\n",
    "    age_dit[j]=ls\n",
    "    ls.clear\n",
    "    \n",
    "for i in range(14,63):\n",
    "    print(i)\n",
    "    images_i =list(age_dit[i])\n",
    "    shuffle(images_i)\n",
    "    training_data, testing_data = get_train_test(images_i)\n",
    "    for j in range(0,len(training_data)):\n",
    "        src = root_dir+\"\\\\\"+training_data[j]\n",
    "        des = 'E:\\\\Datasets\\\\CACD\\\\train\\\\'+str(i)\n",
    "        shutil.copy(src,des)\n",
    "    for j in range(0,len(testing_data)):\n",
    "        src = root_dir+\"\\\\\"+training_data[j]\n",
    "        des = 'E:\\\\Datasets\\\\CACD\\\\test\\\\'+str(i)\n",
    "        shutil.copy(src,des)"
   ]
  },
  {
   "cell_type": "markdown",
   "metadata": {},
   "source": [
    "# VGG-16 Model"
   ]
  },
  {
   "cell_type": "code",
   "execution_count": 3,
   "metadata": {},
   "outputs": [
    {
     "name": "stderr",
     "output_type": "stream",
     "text": [
      "C:\\Users\\bikas\\Anaconda3\\lib\\site-packages\\h5py\\__init__.py:36: FutureWarning: Conversion of the second argument of issubdtype from `float` to `np.floating` is deprecated. In future, it will be treated as `np.float64 == np.dtype(float).type`.\n",
      "  from ._conv import register_converters as _register_converters\n",
      "Using TensorFlow backend.\n"
     ]
    },
    {
     "name": "stdout",
     "output_type": "stream",
     "text": [
      "Found 147082 images belonging to 49 classes.\n",
      "Found 16364 images belonging to 49 classes.\n"
     ]
    }
   ],
   "source": [
    "import keras\n",
    "import os, shutil\n",
    "from keras import models, layers, losses, optimizers, metrics\n",
    "from keras.preprocessing.image import ImageDataGenerator\n",
    "from keras import backend as K\n",
    "%matplotlib inline\n",
    "\n",
    "train_dir = 'E:\\\\Datasets\\\\CACD\\\\train'\n",
    "test_dir = 'E:\\\\Datasets\\\\CACD\\\\test'\n",
    "\n",
    "train_datagen = ImageDataGenerator(rescale=1./255, \n",
    "                                   rotation_range=15, \n",
    "                                   width_shift_range=0.1, \n",
    "                                   height_shift_range=0.1, \n",
    "                                   shear_range=0.1,\n",
    "                                   zoom_range=0.15, \n",
    "                                   horizontal_flip=True\n",
    "                                  )\n",
    "\n",
    "test_datagen = ImageDataGenerator(rescale=1./255)\n",
    "\n",
    "train_generator = train_datagen.flow_from_directory(\n",
    "    train_dir, \n",
    "    target_size=(150, 150), \n",
    "    batch_size=32\n",
    ")\n",
    "\n",
    "test_generator = test_datagen.flow_from_directory(\n",
    "    test_dir, \n",
    "    target_size=(150, 150), \n",
    "    batch_size=32\n",
    ")"
   ]
  },
  {
   "cell_type": "markdown",
   "metadata": {
    "nbpresent": {
     "id": "56968b8c-d213-4d1d-b337-bc4ffec29a11"
    }
   },
   "source": [
    "# Defining call back"
   ]
  },
  {
   "cell_type": "code",
   "execution_count": 4,
   "metadata": {
    "nbpresent": {
     "id": "a3b5d8fc-2ba0-4774-96cf-7552f2573184"
    }
   },
   "outputs": [],
   "source": [
    "class save_model_each_epoch(keras.callbacks.Callback):\n",
    "    def __init__(self):\n",
    "        self.predhis = []\n",
    "    def on_epoch_end(self):\n",
    "        model.save('model.h5')\n",
    "        print(\"saved\")"
   ]
  },
  {
   "cell_type": "markdown",
   "metadata": {
    "nbpresent": {
     "id": "b527b4b7-7503-4262-9b13-2e79c663e339"
    }
   },
   "source": [
    "# Defining custom metrix"
   ]
  },
  {
   "cell_type": "code",
   "execution_count": 5,
   "metadata": {
    "nbpresent": {
     "id": "c87a39f2-ce0b-4362-b81b-776be38e7f1d"
    }
   },
   "outputs": [],
   "source": [
    "def five_claas_diff(y_true, y_pred):\n",
    "    return K.cast(K.abs(K.argmax(y_true, axis=-1) - K.argmax(y_pred, axis=-1)) <= 5,\n",
    "                  K.floatx())\n",
    "\n",
    "def ten_claas_diff(y_true, y_pred):\n",
    "    return K.cast(K.abs(K.argmax(y_true, axis=-1) - K.argmax(y_pred, axis=-1)) <= 10,\n",
    "                  K.floatx())\n"
   ]
  },
  {
   "cell_type": "code",
   "execution_count": 8,
   "metadata": {
    "nbpresent": {
     "id": "7a740cdd-b220-4f8c-9f00-b04ec0c0e428"
    }
   },
   "outputs": [
    {
     "name": "stdout",
     "output_type": "stream",
     "text": [
      "_________________________________________________________________\n",
      "Layer (type)                 Output Shape              Param #   \n",
      "=================================================================\n",
      "vgg16 (Model)                (None, 4, 4, 512)         14714688  \n",
      "_________________________________________________________________\n",
      "flatten_2 (Flatten)          (None, 8192)              0         \n",
      "_________________________________________________________________\n",
      "dense_3 (Dense)              (None, 512)               4194816   \n",
      "_________________________________________________________________\n",
      "dense_4 (Dense)              (None, 49)                25137     \n",
      "=================================================================\n",
      "Total params: 18,934,641\n",
      "Trainable params: 18,934,641\n",
      "Non-trainable params: 0\n",
      "_________________________________________________________________\n"
     ]
    }
   ],
   "source": [
    "from keras.applications import VGG16\n",
    "\n",
    "conv_base = VGG16(weights='imagenet',\n",
    "                 include_top=False,\n",
    "                 input_shape=(150, 150, 3))\n",
    "                 \n",
    "                 \n",
    "model = models.Sequential()\n",
    "\n",
    "model.add(conv_base)\n",
    "model.add(layers.Flatten())\n",
    "model.add(layers.Dense(512, activation='relu'))\n",
    "model.add(layers.Dense(49, activation='softmax'))\n",
    "model.summary()"
   ]
  },
  {
   "cell_type": "code",
   "execution_count": 10,
   "metadata": {
    "nbpresent": {
     "id": "70c2499f-5f23-4c74-a677-2c95ce180fb3"
    }
   },
   "outputs": [
    {
     "name": "stdout",
     "output_type": "stream",
     "text": [
      "This is the number of trainable weights before freezing the conv base: 4\n",
      "Epoch 1/5\n",
      "4600/4600 [==============================] - 814s 177ms/step - loss: 3.6880 - categorical_accuracy: 0.0399 - five_claas_diff: 0.3911 - ten_claas_diff: 0.6435 - val_loss: 3.6544 - val_categorical_accuracy: 0.0436 - val_five_claas_diff: 0.4058 - val_ten_claas_diff: 0.6500\n",
      "Epoch 2/5\n",
      "4600/4600 [==============================] - 803s 174ms/step - loss: 3.6655 - categorical_accuracy: 0.0440 - five_claas_diff: 0.4053 - ten_claas_diff: 0.6560 - val_loss: 3.6305 - val_categorical_accuracy: 0.0511 - val_five_claas_diff: 0.4294 - val_ten_claas_diff: 0.6827\n",
      "Epoch 3/5\n",
      "4600/4600 [==============================] - 874s 190ms/step - loss: 3.6534 - categorical_accuracy: 0.0450 - five_claas_diff: 0.4103 - ten_claas_diff: 0.6598 - val_loss: 3.6235 - val_categorical_accuracy: 0.0514 - val_five_claas_diff: 0.4326 - val_ten_claas_diff: 0.6801\n",
      "Epoch 4/5\n",
      "4600/4600 [==============================] - 805s 175ms/step - loss: 3.6464 - categorical_accuracy: 0.0461 - five_claas_diff: 0.4134 - ten_claas_diff: 0.6634 - val_loss: 3.6132 - val_categorical_accuracy: 0.0490 - val_five_claas_diff: 0.4381 - val_ten_claas_diff: 0.6831\n",
      "Epoch 5/5\n",
      "4600/4600 [==============================] - 815s 177ms/step - loss: 3.6410 - categorical_accuracy: 0.0475 - five_claas_diff: 0.4192 - ten_claas_diff: 0.6686 - val_loss: 3.6119 - val_categorical_accuracy: 0.0521 - val_five_claas_diff: 0.4387 - val_ten_claas_diff: 0.6854\n"
     ]
    }
   ],
   "source": [
    "conv_base.trainable = False\n",
    "print('This is the number of trainable weights before freezing the conv base:', len(model.trainable_weights))\n",
    "\n",
    "model.compile(\n",
    "    optimizer=optimizers.RMSprop(lr=1e-4), \n",
    "    loss=losses.categorical_crossentropy, \n",
    "    metrics=[metrics.categorical_accuracy, five_claas_diff, ten_claas_diff]\n",
    ")\n",
    "\n",
    "history = model.fit_generator(train_generator, \n",
    "                              steps_per_epoch=4600, \n",
    "                              epochs=5, \n",
    "                              validation_data=test_generator,\n",
    "                              callbacks=[keras.callbacks.ModelCheckpoint('model.h5', monitor='val_loss', verbose=0, save_best_only=True, save_weights_only=False, mode='auto', period=1)],\n",
    "                              validation_steps=500)"
   ]
  },
  {
   "cell_type": "code",
   "execution_count": 11,
   "metadata": {
    "nbpresent": {
     "id": "3391e66e-8e74-4c8f-9ab0-6e5a3c5db925"
    }
   },
   "outputs": [
    {
     "data": {
      "image/png": "[encoded data removed]",
      "text/plain": [
       "<Figure size 432x288 with 1 Axes>"
      ]
     },
     "metadata": {},
     "output_type": "display_data"
    },
    {
     "data": {
      "image/png": "[encoded data removed]",
      "text/plain": [
       "<Figure size 432x288 with 1 Axes>"
      ]
     },
     "metadata": {},
     "output_type": "display_data"
    }
   ],
   "source": [
    "import matplotlib.pyplot as plt\n",
    "\n",
    "acc = history.history['categorical_accuracy']\n",
    "val_acc = history.history['val_categorical_accuracy']\n",
    "val_5_acc = history.history['val_five_claas_diff']\n",
    "val_10_acc = history.history['val_ten_claas_diff']\n",
    "loss = history.history['loss']\n",
    "val_loss = history.history['val_loss']\n",
    "\n",
    "epochs = range(1, len(acc)+1)\n",
    "\n",
    "plt.plot(epochs, acc, 'bo', label='Training acc')\n",
    "plt.plot(epochs, val_acc, 'b', label='Validation acc')\n",
    "plt.plot(epochs, val_5_acc, 'r', label='5 class val acc')\n",
    "plt.plot(epochs, val_10_acc, 'g', label='10 class val acc')\n",
    "plt.title('Training and validation accuracy')\n",
    "plt.legend()\n",
    "\n",
    "plt.figure()\n",
    "plt.plot(epochs, loss, 'bo', label='Training losses')\n",
    "plt.plot(epochs, val_loss, 'b', label='Validation losses')\n",
    "plt.title('Training and validation loss')\n",
    "plt.legend()\n",
    "\n",
    "plt.show()"
   ]
  },
  {
   "cell_type": "markdown",
   "metadata": {
    "nbpresent": {
     "id": "6d025a19-0d6c-4b09-8c28-c9d1aff7fb93"
    }
   },
   "source": [
    "# Fine tuning"
   ]
  },
  {
   "cell_type": "code",
   "execution_count": null,
   "metadata": {
    "nbpresent": {
     "id": "8b269e69-67ab-4921-bfef-084b23d17519"
    }
   },
   "outputs": [
    {
     "name": "stdout",
     "output_type": "stream",
     "text": [
      "Epoch 1/30\n",
      "4600/4600 [==============================] - 828s 180ms/step - loss: 3.6095 - categorical_accuracy: 0.0444 - five_claas_diff: 0.4413 - ten_claas_diff: 0.7002 - val_loss: 3.5596 - val_categorical_accuracy: 0.0499 - val_five_claas_diff: 0.4716 - val_ten_claas_diff: 0.7312\n",
      "Epoch 2/30\n",
      "4600/4600 [==============================] - 925s 201ms/step - loss: 3.5252 - categorical_accuracy: 0.0509 - five_claas_diff: 0.4923 - ten_claas_diff: 0.7554 - val_loss: 3.4762 - val_categorical_accuracy: 0.0554 - val_five_claas_diff: 0.5145 - val_ten_claas_diff: 0.7816\n",
      "Epoch 3/30\n",
      "4600/4600 [==============================] - 911s 198ms/step - loss: 3.4905 - categorical_accuracy: 0.0528 - five_claas_diff: 0.5119 - ten_claas_diff: 0.7750 - val_loss: 3.4474 - val_categorical_accuracy: 0.0544 - val_five_claas_diff: 0.5376 - val_ten_claas_diff: 0.8024\n",
      "Epoch 4/30\n",
      "4600/4600 [==============================] - 889s 193ms/step - loss: 3.4671 - categorical_accuracy: 0.0558 - five_claas_diff: 0.5273 - ten_claas_diff: 0.7891 - val_loss: 3.4054 - val_categorical_accuracy: 0.0597 - val_five_claas_diff: 0.5576 - val_ten_claas_diff: 0.8172\n",
      "Epoch 5/30\n",
      "4600/4600 [==============================] - 917s 199ms/step - loss: 3.4502 - categorical_accuracy: 0.0566 - five_claas_diff: 0.5343 - ten_claas_diff: 0.7953 - val_loss: 3.4043 - val_categorical_accuracy: 0.0641 - val_five_claas_diff: 0.5590 - val_ten_claas_diff: 0.8160\n",
      "Epoch 6/30\n",
      "4600/4600 [==============================] - 1048s 228ms/step - loss: 3.4355 - categorical_accuracy: 0.0572 - five_claas_diff: 0.5446 - ten_claas_diff: 0.8034 - val_loss: 3.4419 - val_categorical_accuracy: 0.0625 - val_five_claas_diff: 0.5646 - val_ten_claas_diff: 0.8278\n",
      "Epoch 7/30\n",
      "2013/4600 [============>.................] - ETA: 9:15 - loss: 3.4192 - categorical_accuracy: 0.0592 - five_claas_diff: 0.5531 - ten_claas_diff: 0.8102"
     ]
    }
   ],
   "source": [
    "conv_base.trainable = True\n",
    "set_trainable = False\n",
    "for layer in conv_base.layers:\n",
    "    if layer.name == 'block5_conv1':\n",
    "        set_trainable = True\n",
    "    if set_trainable:\n",
    "        layer.trainable = True\n",
    "    else:\n",
    "        layer.trainable = False\n",
    "        \n",
    "model.compile(\n",
    "    optimizer=optimizers.RMSprop(lr=1e-4), \n",
    "    loss=losses.categorical_crossentropy, \n",
    "    metrics=[metrics.categorical_accuracy, five_claas_diff, ten_claas_diff]\n",
    ")\n",
    "\n",
    "history = model.fit_generator(train_generator, \n",
    "                              steps_per_epoch=4600, \n",
    "                              epochs=30, \n",
    "                              validation_data=test_generator, \n",
    "                              callbacks=[\n",
    "                                  keras.callbacks.ModelCheckpoint('model.h5', monitor='val_loss', verbose=0, save_best_only=True, save_weights_only=False, mode='auto', period=1),\n",
    "                                  keras.callbacks.EarlyStopping(monitor='val_loss', min_delta=0, patience=2, verbose=0, mode='auto')\n",
    "                              ],\n",
    "                              validation_steps=500)"
   ]
  },
  {
   "cell_type": "code",
   "execution_count": null,
   "metadata": {
    "nbpresent": {
     "id": "f880666d-d2c1-4c70-ae02-0ef8ea02f4df"
    }
   },
   "outputs": [],
   "source": [
    "import matplotlib.pyplot as plt\n",
    "\n",
    "acc = history.history['categorical_accuracy']\n",
    "val_acc = history.history['val_categorical_accuracy']\n",
    "val_5_acc = history.history['val_five_claas_diff']\n",
    "val_10_acc = history.history['val_ten_claas_diff']\n",
    "loss = history.history['loss']\n",
    "val_loss = history.history['val_loss']\n",
    "\n",
    "epochs = range(1, len(acc)+1)\n",
    "\n",
    "plt.plot(epochs, acc, 'bo', label='Training acc')\n",
    "plt.plot(epochs, val_acc, 'b', label='Validation acc')\n",
    "plt.plot(epochs, val_5_acc, 'r', label='5 class val acc')\n",
    "plt.plot(epochs, val_10_acc, 'g', label='10 class val acc')\n",
    "plt.title('Training and validation accuracy')\n",
    "plt.legend()\n",
    "\n",
    "plt.figure()\n",
    "plt.plot(epochs, loss, 'bo', label='Training losses')\n",
    "plt.plot(epochs, val_loss, 'b', label='Validation losses')\n",
    "plt.title('Training and validation loss')\n",
    "plt.legend()\n",
    "\n",
    "plt.show()"
   ]
  },
  {
   "cell_type": "code",
   "execution_count": null,
   "metadata": {},
   "outputs": [],
   "source": []
  }
 ],
 "metadata": {
  "anaconda-cloud": {},
  "kernelspec": {
   "display_name": "Python [conda env:Anaconda3]",
   "language": "python",
   "name": "conda-env-Anaconda3-py"
  },
  "language_info": {
   "codemirror_mode": {
    "name": "ipython",
    "version": 3
   },
   "file_extension": ".py",
   "mimetype": "text/x-python",
   "name": "python",
   "nbconvert_exporter": "python",
   "pygments_lexer": "ipython3",
   "version": "3.5.2"
  },
  "nbpresent": {
   "slides": {
    "08b382d4-7cfd-44b7-ba86-5aaf1bdf7467": {
     "id": "08b382d4-7cfd-44b7-ba86-5aaf1bdf7467",
     "prev": "b788fbf4-2e2d-4ada-af60-d4ffb118b8dd",
     "regions": {
      "ebb25d97-f547-4bdf-8499-c4057cb4bd27": {
       "attrs": {
        "height": 0.8,
        "width": 0.8,
        "x": 0.1,
        "y": 0.1
       },
       "content": {
        "cell": "7a740cdd-b220-4f8c-9f00-b04ec0c0e428",
        "part": "whole"
       },
       "id": "ebb25d97-f547-4bdf-8499-c4057cb4bd27"
      }
     }
    },
    "2b6954a5-c5a8-4327-93c0-2139ba2ae502": {
     "id": "2b6954a5-c5a8-4327-93c0-2139ba2ae502",
     "prev": "57cd3675-b5ed-4d54-af9a-561a18aff854",
     "regions": {
      "291a451e-25e1-4e5b-b371-0690f1393d52": {
       "attrs": {
        "height": 0.8,
        "width": 0.8,
        "x": 0.1,
        "y": 0.1
       },
       "content": {
        "cell": "34084263-e47e-4396-86d3-6cd1ec6021f3",
        "part": "whole"
       },
       "id": "291a451e-25e1-4e5b-b371-0690f1393d52"
      }
     }
    },
    "2eab4f0d-0f96-43ba-90fd-f8a12143e0a2": {
     "id": "2eab4f0d-0f96-43ba-90fd-f8a12143e0a2",
     "prev": "d06d8163-b12b-4bee-aa58-b51885ec8ca3",
     "regions": {
      "40e5ba35-1251-49fc-b406-a37f18638b3e": {
       "attrs": {
        "height": 0.8,
        "width": 0.8,
        "x": 0.1,
        "y": 0.1
       },
       "content": {
        "cell": "a3b5d8fc-2ba0-4774-96cf-7552f2573184",
        "part": "whole"
       },
       "id": "40e5ba35-1251-49fc-b406-a37f18638b3e"
      }
     }
    },
    "431515f5-42f2-45c6-99ff-e95b72a3c71f": {
     "id": "431515f5-42f2-45c6-99ff-e95b72a3c71f",
     "prev": "570380d5-aa9d-4276-b72c-418d9d27866a",
     "regions": {
      "ac8d77d9-85f7-4760-bd72-aea876f046ea": {
       "attrs": {
        "height": 0.8,
        "width": 0.8,
        "x": 0.1,
        "y": 0.1
       },
       "content": {
        "cell": "3391e66e-8e74-4c8f-9ab0-6e5a3c5db925",
        "part": "whole"
       },
       "id": "ac8d77d9-85f7-4760-bd72-aea876f046ea"
      }
     }
    },
    "47c13b32-91a7-41d8-855b-62c2c979f4e6": {
     "id": "47c13b32-91a7-41d8-855b-62c2c979f4e6",
     "prev": "8c6657ca-9799-4e91-9249-344b9aa32638",
     "regions": {
      "b1a87982-1652-40f0-b348-70be73820afa": {
       "attrs": {
        "height": 0.8,
        "width": 0.8,
        "x": 0.1,
        "y": 0.1
       },
       "content": {
        "cell": "6d025a19-0d6c-4b09-8c28-c9d1aff7fb93",
        "part": "whole"
       },
       "id": "b1a87982-1652-40f0-b348-70be73820afa"
      }
     }
    },
    "570380d5-aa9d-4276-b72c-418d9d27866a": {
     "id": "570380d5-aa9d-4276-b72c-418d9d27866a",
     "prev": "08b382d4-7cfd-44b7-ba86-5aaf1bdf7467",
     "regions": {
      "2456fa97-5abb-452a-be94-beb3b915f326": {
       "attrs": {
        "height": 0.8,
        "width": 0.8,
        "x": 0.1,
        "y": 0.1
       },
       "content": {
        "cell": "70c2499f-5f23-4c74-a677-2c95ce180fb3",
        "part": "whole"
       },
       "id": "2456fa97-5abb-452a-be94-beb3b915f326"
      }
     }
    },
    "57cd3675-b5ed-4d54-af9a-561a18aff854": {
     "id": "57cd3675-b5ed-4d54-af9a-561a18aff854",
     "prev": "6f88066c-f841-438a-93df-9de4e1154017",
     "regions": {
      "6a48b604-6cc5-47f6-b0cd-196ff87b3b3d": {
       "attrs": {
        "height": 0.8,
        "width": 0.8,
        "x": 0.1,
        "y": 0.1
       },
       "content": {
        "cell": "f880666d-d2c1-4c70-ae02-0ef8ea02f4df",
        "part": "whole"
       },
       "id": "6a48b604-6cc5-47f6-b0cd-196ff87b3b3d"
      }
     }
    },
    "6f88066c-f841-438a-93df-9de4e1154017": {
     "id": "6f88066c-f841-438a-93df-9de4e1154017",
     "prev": "47c13b32-91a7-41d8-855b-62c2c979f4e6",
     "regions": {
      "c1b59b07-fb9b-4b29-b007-5c3d89c6d0f0": {
       "attrs": {
        "height": 0.8,
        "width": 0.8,
        "x": 0.1,
        "y": 0.1
       },
       "content": {
        "cell": "8b269e69-67ab-4921-bfef-084b23d17519",
        "part": "whole"
       },
       "id": "c1b59b07-fb9b-4b29-b007-5c3d89c6d0f0"
      }
     }
    },
    "79483e70-5d71-4c16-843c-2d6c05625b0b": {
     "id": "79483e70-5d71-4c16-843c-2d6c05625b0b",
     "prev": null,
     "regions": {
      "caa824ad-98ed-40c2-8108-69dd8b61014e": {
       "attrs": {
        "height": 0.8,
        "width": 0.8,
        "x": 0.1,
        "y": 0.1
       },
       "content": {
        "cell": "e5c51cfa-6c5e-4513-b67d-652d9be348a3",
        "part": "whole"
       },
       "id": "caa824ad-98ed-40c2-8108-69dd8b61014e"
      }
     }
    },
    "8c6657ca-9799-4e91-9249-344b9aa32638": {
     "id": "8c6657ca-9799-4e91-9249-344b9aa32638",
     "prev": "905cabf5-5242-4aae-bd5e-6b60b6fcf51b",
     "regions": {
      "be418888-a97b-4a77-a770-79320ecdbbbf": {
       "attrs": {
        "height": 0.8,
        "width": 0.8,
        "x": 0.1,
        "y": 0.1
       },
       "content": {
        "cell": "487646b7-6ddb-49cb-91e0-60e194238fb7",
        "part": "whole"
       },
       "id": "be418888-a97b-4a77-a770-79320ecdbbbf"
      }
     }
    },
    "905cabf5-5242-4aae-bd5e-6b60b6fcf51b": {
     "id": "905cabf5-5242-4aae-bd5e-6b60b6fcf51b",
     "prev": "431515f5-42f2-45c6-99ff-e95b72a3c71f",
     "regions": {
      "19fec759-54e3-425e-97ef-c01d2b0c3d79": {
       "attrs": {
        "height": 0.8,
        "width": 0.8,
        "x": 0.1,
        "y": 0.1
       },
       "content": {
        "cell": "64ee59f5-1121-4928-932b-0c623008905c",
        "part": "whole"
       },
       "id": "19fec759-54e3-425e-97ef-c01d2b0c3d79"
      }
     }
    },
    "b788fbf4-2e2d-4ada-af60-d4ffb118b8dd": {
     "id": "b788fbf4-2e2d-4ada-af60-d4ffb118b8dd",
     "prev": "b7a4b19d-ff68-4c08-a4ec-b541f3f57628",
     "regions": {
      "6decc806-82f8-4f74-a04d-5225fdbcb592": {
       "attrs": {
        "height": 0.8,
        "width": 0.8,
        "x": 0.1,
        "y": 0.1
       },
       "content": {
        "cell": "c87a39f2-ce0b-4362-b81b-776be38e7f1d",
        "part": "whole"
       },
       "id": "6decc806-82f8-4f74-a04d-5225fdbcb592"
      }
     }
    },
    "b7a4b19d-ff68-4c08-a4ec-b541f3f57628": {
     "id": "b7a4b19d-ff68-4c08-a4ec-b541f3f57628",
     "prev": "2eab4f0d-0f96-43ba-90fd-f8a12143e0a2",
     "regions": {
      "61035287-28b7-4d76-b4b2-b7141e8bd6de": {
       "attrs": {
        "height": 0.8,
        "width": 0.8,
        "x": 0.1,
        "y": 0.1
       },
       "content": {
        "cell": "b527b4b7-7503-4262-9b13-2e79c663e339",
        "part": "whole"
       },
       "id": "61035287-28b7-4d76-b4b2-b7141e8bd6de"
      }
     }
    },
    "d06d8163-b12b-4bee-aa58-b51885ec8ca3": {
     "id": "d06d8163-b12b-4bee-aa58-b51885ec8ca3",
     "prev": "79483e70-5d71-4c16-843c-2d6c05625b0b",
     "regions": {
      "321fb641-30a8-4d25-8af7-97ce397f44bb": {
       "attrs": {
        "height": 0.8,
        "width": 0.8,
        "x": 0.1,
        "y": 0.1
       },
       "content": {
        "cell": "56968b8c-d213-4d1d-b337-bc4ffec29a11",
        "part": "whole"
       },
       "id": "321fb641-30a8-4d25-8af7-97ce397f44bb"
      }
     }
    }
   },
   "themes": {}
  }
 },
 "nbformat": 4,
 "nbformat_minor": 1
}
