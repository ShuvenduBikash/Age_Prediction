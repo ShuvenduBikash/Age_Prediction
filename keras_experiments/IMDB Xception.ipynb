{
 "cells": [
  {
   "cell_type": "markdown",
   "metadata": {},
   "source": [
    "# IMDB: Xception"
   ]
  },
  {
   "cell_type": "code",
   "execution_count": 12,
   "metadata": {},
   "outputs": [
    {
     "name": "stdout",
     "output_type": "stream",
     "text": [
      "Found 221477 images belonging to 62 classes.\n",
      "Found 15843 images belonging to 62 classes.\n"
     ]
    }
   ],
   "source": [
    "import keras\n",
    "import os, shutil\n",
    "from keras import models, layers, losses, optimizers, metrics\n",
    "from keras.preprocessing.image import ImageDataGenerator\n",
    "from keras import backend as K\n",
    "%matplotlib inline\n",
    "\n",
    "train_dir = 'data\\\\imdb\\\\train'\n",
    "test_dir = 'data\\\\imdb\\\\test'\n",
    "\n",
    "train_datagen = ImageDataGenerator(rescale=1./255)\n",
    "test_datagen = ImageDataGenerator(rescale=1./255)\n",
    "\n",
    "train_generator = train_datagen.flow_from_directory(\n",
    "    train_dir, \n",
    "    target_size=(150, 150), \n",
    "    batch_size=32\n",
    ")\n",
    "\n",
    "test_generator = test_datagen.flow_from_directory(\n",
    "    test_dir, \n",
    "    target_size=(150, 150), \n",
    "    batch_size=32\n",
    ")"
   ]
  },
  {
   "cell_type": "markdown",
   "metadata": {
    "nbpresent": {
     "id": "b527b4b7-7503-4262-9b13-2e79c663e339"
    }
   },
   "source": [
    "# Defining custom metrix"
   ]
  },
  {
   "cell_type": "code",
   "execution_count": 4,
   "metadata": {
    "nbpresent": {
     "id": "c87a39f2-ce0b-4362-b81b-776be38e7f1d"
    }
   },
   "outputs": [],
   "source": [
    "def five_claas_diff(y_true, y_pred):\n",
    "    return K.cast(K.abs(K.argmax(y_true, axis=-1) - K.argmax(y_pred, axis=-1)) <= 5,\n",
    "                  K.floatx())\n",
    "\n",
    "def ten_claas_diff(y_true, y_pred):\n",
    "    return K.cast(K.abs(K.argmax(y_true, axis=-1) - K.argmax(y_pred, axis=-1)) <= 10,\n",
    "                  K.floatx())\n"
   ]
  },
  {
   "cell_type": "code",
   "execution_count": 5,
   "metadata": {
    "nbpresent": {
     "id": "7a740cdd-b220-4f8c-9f00-b04ec0c0e428"
    }
   },
   "outputs": [
    {
     "name": "stdout",
     "output_type": "stream",
     "text": [
      "__________________________________________________________________________________________________\n",
      "Layer (type)                    Output Shape         Param #     Connected to                     \n",
      "==================================================================================================\n",
      "input_1 (InputLayer)            (None, 150, 150, 3)  0                                            \n",
      "__________________________________________________________________________________________________\n",
      "block1_conv1 (Conv2D)           (None, 74, 74, 32)   864         input_1[0][0]                    \n",
      "__________________________________________________________________________________________________\n",
      "block1_conv1_bn (BatchNormaliza (None, 74, 74, 32)   128         block1_conv1[0][0]               \n",
      "__________________________________________________________________________________________________\n",
      "block1_conv1_act (Activation)   (None, 74, 74, 32)   0           block1_conv1_bn[0][0]            \n",
      "__________________________________________________________________________________________________\n",
      "block1_conv2 (Conv2D)           (None, 72, 72, 64)   18432       block1_conv1_act[0][0]           \n",
      "__________________________________________________________________________________________________\n",
      "block1_conv2_bn (BatchNormaliza (None, 72, 72, 64)   256         block1_conv2[0][0]               \n",
      "__________________________________________________________________________________________________\n",
      "block1_conv2_act (Activation)   (None, 72, 72, 64)   0           block1_conv2_bn[0][0]            \n",
      "__________________________________________________________________________________________________\n",
      "block2_sepconv1 (SeparableConv2 (None, 72, 72, 128)  8768        block1_conv2_act[0][0]           \n",
      "__________________________________________________________________________________________________\n",
      "block2_sepconv1_bn (BatchNormal (None, 72, 72, 128)  512         block2_sepconv1[0][0]            \n",
      "__________________________________________________________________________________________________\n",
      "block2_sepconv2_act (Activation (None, 72, 72, 128)  0           block2_sepconv1_bn[0][0]         \n",
      "__________________________________________________________________________________________________\n",
      "block2_sepconv2 (SeparableConv2 (None, 72, 72, 128)  17536       block2_sepconv2_act[0][0]        \n",
      "__________________________________________________________________________________________________\n",
      "block2_sepconv2_bn (BatchNormal (None, 72, 72, 128)  512         block2_sepconv2[0][0]            \n",
      "__________________________________________________________________________________________________\n",
      "conv2d_1 (Conv2D)               (None, 36, 36, 128)  8192        block1_conv2_act[0][0]           \n",
      "__________________________________________________________________________________________________\n",
      "block2_pool (MaxPooling2D)      (None, 36, 36, 128)  0           block2_sepconv2_bn[0][0]         \n",
      "__________________________________________________________________________________________________\n",
      "batch_normalization_1 (BatchNor (None, 36, 36, 128)  512         conv2d_1[0][0]                   \n",
      "__________________________________________________________________________________________________\n",
      "add_1 (Add)                     (None, 36, 36, 128)  0           block2_pool[0][0]                \n",
      "                                                                 batch_normalization_1[0][0]      \n",
      "__________________________________________________________________________________________________\n",
      "block3_sepconv1_act (Activation (None, 36, 36, 128)  0           add_1[0][0]                      \n",
      "__________________________________________________________________________________________________\n",
      "block3_sepconv1 (SeparableConv2 (None, 36, 36, 256)  33920       block3_sepconv1_act[0][0]        \n",
      "__________________________________________________________________________________________________\n",
      "block3_sepconv1_bn (BatchNormal (None, 36, 36, 256)  1024        block3_sepconv1[0][0]            \n",
      "__________________________________________________________________________________________________\n",
      "block3_sepconv2_act (Activation (None, 36, 36, 256)  0           block3_sepconv1_bn[0][0]         \n",
      "__________________________________________________________________________________________________\n",
      "block3_sepconv2 (SeparableConv2 (None, 36, 36, 256)  67840       block3_sepconv2_act[0][0]        \n",
      "__________________________________________________________________________________________________\n",
      "block3_sepconv2_bn (BatchNormal (None, 36, 36, 256)  1024        block3_sepconv2[0][0]            \n",
      "__________________________________________________________________________________________________\n",
      "conv2d_2 (Conv2D)               (None, 18, 18, 256)  32768       add_1[0][0]                      \n",
      "__________________________________________________________________________________________________\n",
      "block3_pool (MaxPooling2D)      (None, 18, 18, 256)  0           block3_sepconv2_bn[0][0]         \n",
      "__________________________________________________________________________________________________\n",
      "batch_normalization_2 (BatchNor (None, 18, 18, 256)  1024        conv2d_2[0][0]                   \n",
      "__________________________________________________________________________________________________\n",
      "add_2 (Add)                     (None, 18, 18, 256)  0           block3_pool[0][0]                \n",
      "                                                                 batch_normalization_2[0][0]      \n",
      "__________________________________________________________________________________________________\n",
      "block4_sepconv1_act (Activation (None, 18, 18, 256)  0           add_2[0][0]                      \n",
      "__________________________________________________________________________________________________\n",
      "block4_sepconv1 (SeparableConv2 (None, 18, 18, 728)  188672      block4_sepconv1_act[0][0]        \n",
      "__________________________________________________________________________________________________\n",
      "block4_sepconv1_bn (BatchNormal (None, 18, 18, 728)  2912        block4_sepconv1[0][0]            \n",
      "__________________________________________________________________________________________________\n",
      "block4_sepconv2_act (Activation (None, 18, 18, 728)  0           block4_sepconv1_bn[0][0]         \n",
      "__________________________________________________________________________________________________\n",
      "block4_sepconv2 (SeparableConv2 (None, 18, 18, 728)  536536      block4_sepconv2_act[0][0]        \n",
      "__________________________________________________________________________________________________\n",
      "block4_sepconv2_bn (BatchNormal (None, 18, 18, 728)  2912        block4_sepconv2[0][0]            \n",
      "__________________________________________________________________________________________________\n",
      "conv2d_3 (Conv2D)               (None, 9, 9, 728)    186368      add_2[0][0]                      \n",
      "__________________________________________________________________________________________________\n",
      "block4_pool (MaxPooling2D)      (None, 9, 9, 728)    0           block4_sepconv2_bn[0][0]         \n",
      "__________________________________________________________________________________________________\n",
      "batch_normalization_3 (BatchNor (None, 9, 9, 728)    2912        conv2d_3[0][0]                   \n",
      "__________________________________________________________________________________________________\n",
      "add_3 (Add)                     (None, 9, 9, 728)    0           block4_pool[0][0]                \n",
      "                                                                 batch_normalization_3[0][0]      \n",
      "__________________________________________________________________________________________________\n",
      "block5_sepconv1_act (Activation (None, 9, 9, 728)    0           add_3[0][0]                      \n",
      "__________________________________________________________________________________________________\n",
      "block5_sepconv1 (SeparableConv2 (None, 9, 9, 728)    536536      block5_sepconv1_act[0][0]        \n",
      "__________________________________________________________________________________________________\n",
      "block5_sepconv1_bn (BatchNormal (None, 9, 9, 728)    2912        block5_sepconv1[0][0]            \n",
      "__________________________________________________________________________________________________\n",
      "block5_sepconv2_act (Activation (None, 9, 9, 728)    0           block5_sepconv1_bn[0][0]         \n",
      "__________________________________________________________________________________________________\n",
      "block5_sepconv2 (SeparableConv2 (None, 9, 9, 728)    536536      block5_sepconv2_act[0][0]        \n",
      "__________________________________________________________________________________________________\n",
      "block5_sepconv2_bn (BatchNormal (None, 9, 9, 728)    2912        block5_sepconv2[0][0]            \n",
      "__________________________________________________________________________________________________\n",
      "block5_sepconv3_act (Activation (None, 9, 9, 728)    0           block5_sepconv2_bn[0][0]         \n",
      "__________________________________________________________________________________________________\n",
      "block5_sepconv3 (SeparableConv2 (None, 9, 9, 728)    536536      block5_sepconv3_act[0][0]        \n",
      "__________________________________________________________________________________________________\n",
      "block5_sepconv3_bn (BatchNormal (None, 9, 9, 728)    2912        block5_sepconv3[0][0]            \n",
      "__________________________________________________________________________________________________\n",
      "add_4 (Add)                     (None, 9, 9, 728)    0           block5_sepconv3_bn[0][0]         \n",
      "                                                                 add_3[0][0]                      \n",
      "__________________________________________________________________________________________________\n",
      "block6_sepconv1_act (Activation (None, 9, 9, 728)    0           add_4[0][0]                      \n",
      "__________________________________________________________________________________________________\n",
      "block6_sepconv1 (SeparableConv2 (None, 9, 9, 728)    536536      block6_sepconv1_act[0][0]        \n",
      "__________________________________________________________________________________________________\n",
      "block6_sepconv1_bn (BatchNormal (None, 9, 9, 728)    2912        block6_sepconv1[0][0]            \n",
      "__________________________________________________________________________________________________\n",
      "block6_sepconv2_act (Activation (None, 9, 9, 728)    0           block6_sepconv1_bn[0][0]         \n",
      "__________________________________________________________________________________________________\n",
      "block6_sepconv2 (SeparableConv2 (None, 9, 9, 728)    536536      block6_sepconv2_act[0][0]        \n",
      "__________________________________________________________________________________________________\n",
      "block6_sepconv2_bn (BatchNormal (None, 9, 9, 728)    2912        block6_sepconv2[0][0]            \n",
      "__________________________________________________________________________________________________\n",
      "block6_sepconv3_act (Activation (None, 9, 9, 728)    0           block6_sepconv2_bn[0][0]         \n",
      "__________________________________________________________________________________________________\n",
      "block6_sepconv3 (SeparableConv2 (None, 9, 9, 728)    536536      block6_sepconv3_act[0][0]        \n",
      "__________________________________________________________________________________________________\n",
      "block6_sepconv3_bn (BatchNormal (None, 9, 9, 728)    2912        block6_sepconv3[0][0]            \n",
      "__________________________________________________________________________________________________\n",
      "add_5 (Add)                     (None, 9, 9, 728)    0           block6_sepconv3_bn[0][0]         \n",
      "                                                                 add_4[0][0]                      \n",
      "__________________________________________________________________________________________________\n",
      "block7_sepconv1_act (Activation (None, 9, 9, 728)    0           add_5[0][0]                      \n",
      "__________________________________________________________________________________________________\n",
      "block7_sepconv1 (SeparableConv2 (None, 9, 9, 728)    536536      block7_sepconv1_act[0][0]        \n",
      "__________________________________________________________________________________________________\n",
      "block7_sepconv1_bn (BatchNormal (None, 9, 9, 728)    2912        block7_sepconv1[0][0]            \n",
      "__________________________________________________________________________________________________\n",
      "block7_sepconv2_act (Activation (None, 9, 9, 728)    0           block7_sepconv1_bn[0][0]         \n",
      "__________________________________________________________________________________________________\n",
      "block7_sepconv2 (SeparableConv2 (None, 9, 9, 728)    536536      block7_sepconv2_act[0][0]        \n",
      "__________________________________________________________________________________________________\n",
      "block7_sepconv2_bn (BatchNormal (None, 9, 9, 728)    2912        block7_sepconv2[0][0]            \n",
      "__________________________________________________________________________________________________\n",
      "block7_sepconv3_act (Activation (None, 9, 9, 728)    0           block7_sepconv2_bn[0][0]         \n",
      "__________________________________________________________________________________________________\n",
      "block7_sepconv3 (SeparableConv2 (None, 9, 9, 728)    536536      block7_sepconv3_act[0][0]        \n",
      "__________________________________________________________________________________________________\n",
      "block7_sepconv3_bn (BatchNormal (None, 9, 9, 728)    2912        block7_sepconv3[0][0]            \n",
      "__________________________________________________________________________________________________\n",
      "add_6 (Add)                     (None, 9, 9, 728)    0           block7_sepconv3_bn[0][0]         \n",
      "                                                                 add_5[0][0]                      \n",
      "__________________________________________________________________________________________________\n",
      "block8_sepconv1_act (Activation (None, 9, 9, 728)    0           add_6[0][0]                      \n",
      "__________________________________________________________________________________________________\n",
      "block8_sepconv1 (SeparableConv2 (None, 9, 9, 728)    536536      block8_sepconv1_act[0][0]        \n",
      "__________________________________________________________________________________________________\n",
      "block8_sepconv1_bn (BatchNormal (None, 9, 9, 728)    2912        block8_sepconv1[0][0]            \n",
      "__________________________________________________________________________________________________\n",
      "block8_sepconv2_act (Activation (None, 9, 9, 728)    0           block8_sepconv1_bn[0][0]         \n",
      "__________________________________________________________________________________________________\n",
      "block8_sepconv2 (SeparableConv2 (None, 9, 9, 728)    536536      block8_sepconv2_act[0][0]        \n",
      "__________________________________________________________________________________________________\n",
      "block8_sepconv2_bn (BatchNormal (None, 9, 9, 728)    2912        block8_sepconv2[0][0]            \n",
      "__________________________________________________________________________________________________\n",
      "block8_sepconv3_act (Activation (None, 9, 9, 728)    0           block8_sepconv2_bn[0][0]         \n",
      "__________________________________________________________________________________________________\n",
      "block8_sepconv3 (SeparableConv2 (None, 9, 9, 728)    536536      block8_sepconv3_act[0][0]        \n",
      "__________________________________________________________________________________________________\n",
      "block8_sepconv3_bn (BatchNormal (None, 9, 9, 728)    2912        block8_sepconv3[0][0]            \n",
      "__________________________________________________________________________________________________\n",
      "add_7 (Add)                     (None, 9, 9, 728)    0           block8_sepconv3_bn[0][0]         \n",
      "                                                                 add_6[0][0]                      \n",
      "__________________________________________________________________________________________________\n",
      "block9_sepconv1_act (Activation (None, 9, 9, 728)    0           add_7[0][0]                      \n",
      "__________________________________________________________________________________________________\n",
      "block9_sepconv1 (SeparableConv2 (None, 9, 9, 728)    536536      block9_sepconv1_act[0][0]        \n",
      "__________________________________________________________________________________________________\n",
      "block9_sepconv1_bn (BatchNormal (None, 9, 9, 728)    2912        block9_sepconv1[0][0]            \n",
      "__________________________________________________________________________________________________\n",
      "block9_sepconv2_act (Activation (None, 9, 9, 728)    0           block9_sepconv1_bn[0][0]         \n",
      "__________________________________________________________________________________________________\n",
      "block9_sepconv2 (SeparableConv2 (None, 9, 9, 728)    536536      block9_sepconv2_act[0][0]        \n",
      "__________________________________________________________________________________________________\n",
      "block9_sepconv2_bn (BatchNormal (None, 9, 9, 728)    2912        block9_sepconv2[0][0]            \n",
      "__________________________________________________________________________________________________\n",
      "block9_sepconv3_act (Activation (None, 9, 9, 728)    0           block9_sepconv2_bn[0][0]         \n",
      "__________________________________________________________________________________________________\n",
      "block9_sepconv3 (SeparableConv2 (None, 9, 9, 728)    536536      block9_sepconv3_act[0][0]        \n",
      "__________________________________________________________________________________________________\n",
      "block9_sepconv3_bn (BatchNormal (None, 9, 9, 728)    2912        block9_sepconv3[0][0]            \n",
      "__________________________________________________________________________________________________\n",
      "add_8 (Add)                     (None, 9, 9, 728)    0           block9_sepconv3_bn[0][0]         \n",
      "                                                                 add_7[0][0]                      \n",
      "__________________________________________________________________________________________________\n",
      "block10_sepconv1_act (Activatio (None, 9, 9, 728)    0           add_8[0][0]                      \n",
      "__________________________________________________________________________________________________\n",
      "block10_sepconv1 (SeparableConv (None, 9, 9, 728)    536536      block10_sepconv1_act[0][0]       \n",
      "__________________________________________________________________________________________________\n",
      "block10_sepconv1_bn (BatchNorma (None, 9, 9, 728)    2912        block10_sepconv1[0][0]           \n",
      "__________________________________________________________________________________________________\n",
      "block10_sepconv2_act (Activatio (None, 9, 9, 728)    0           block10_sepconv1_bn[0][0]        \n",
      "__________________________________________________________________________________________________\n",
      "block10_sepconv2 (SeparableConv (None, 9, 9, 728)    536536      block10_sepconv2_act[0][0]       \n",
      "__________________________________________________________________________________________________\n",
      "block10_sepconv2_bn (BatchNorma (None, 9, 9, 728)    2912        block10_sepconv2[0][0]           \n",
      "__________________________________________________________________________________________________\n",
      "block10_sepconv3_act (Activatio (None, 9, 9, 728)    0           block10_sepconv2_bn[0][0]        \n",
      "__________________________________________________________________________________________________\n",
      "block10_sepconv3 (SeparableConv (None, 9, 9, 728)    536536      block10_sepconv3_act[0][0]       \n",
      "__________________________________________________________________________________________________\n",
      "block10_sepconv3_bn (BatchNorma (None, 9, 9, 728)    2912        block10_sepconv3[0][0]           \n",
      "__________________________________________________________________________________________________\n",
      "add_9 (Add)                     (None, 9, 9, 728)    0           block10_sepconv3_bn[0][0]        \n",
      "                                                                 add_8[0][0]                      \n",
      "__________________________________________________________________________________________________\n",
      "block11_sepconv1_act (Activatio (None, 9, 9, 728)    0           add_9[0][0]                      \n",
      "__________________________________________________________________________________________________\n",
      "block11_sepconv1 (SeparableConv (None, 9, 9, 728)    536536      block11_sepconv1_act[0][0]       \n",
      "__________________________________________________________________________________________________\n",
      "block11_sepconv1_bn (BatchNorma (None, 9, 9, 728)    2912        block11_sepconv1[0][0]           \n",
      "__________________________________________________________________________________________________\n",
      "block11_sepconv2_act (Activatio (None, 9, 9, 728)    0           block11_sepconv1_bn[0][0]        \n",
      "__________________________________________________________________________________________________\n",
      "block11_sepconv2 (SeparableConv (None, 9, 9, 728)    536536      block11_sepconv2_act[0][0]       \n",
      "__________________________________________________________________________________________________\n",
      "block11_sepconv2_bn (BatchNorma (None, 9, 9, 728)    2912        block11_sepconv2[0][0]           \n",
      "__________________________________________________________________________________________________\n",
      "block11_sepconv3_act (Activatio (None, 9, 9, 728)    0           block11_sepconv2_bn[0][0]        \n",
      "__________________________________________________________________________________________________\n",
      "block11_sepconv3 (SeparableConv (None, 9, 9, 728)    536536      block11_sepconv3_act[0][0]       \n",
      "__________________________________________________________________________________________________\n",
      "block11_sepconv3_bn (BatchNorma (None, 9, 9, 728)    2912        block11_sepconv3[0][0]           \n",
      "__________________________________________________________________________________________________\n",
      "add_10 (Add)                    (None, 9, 9, 728)    0           block11_sepconv3_bn[0][0]        \n",
      "                                                                 add_9[0][0]                      \n",
      "__________________________________________________________________________________________________\n",
      "block12_sepconv1_act (Activatio (None, 9, 9, 728)    0           add_10[0][0]                     \n",
      "__________________________________________________________________________________________________\n",
      "block12_sepconv1 (SeparableConv (None, 9, 9, 728)    536536      block12_sepconv1_act[0][0]       \n",
      "__________________________________________________________________________________________________\n",
      "block12_sepconv1_bn (BatchNorma (None, 9, 9, 728)    2912        block12_sepconv1[0][0]           \n",
      "__________________________________________________________________________________________________\n",
      "block12_sepconv2_act (Activatio (None, 9, 9, 728)    0           block12_sepconv1_bn[0][0]        \n",
      "__________________________________________________________________________________________________\n",
      "block12_sepconv2 (SeparableConv (None, 9, 9, 728)    536536      block12_sepconv2_act[0][0]       \n",
      "__________________________________________________________________________________________________\n",
      "block12_sepconv2_bn (BatchNorma (None, 9, 9, 728)    2912        block12_sepconv2[0][0]           \n",
      "__________________________________________________________________________________________________\n",
      "block12_sepconv3_act (Activatio (None, 9, 9, 728)    0           block12_sepconv2_bn[0][0]        \n",
      "__________________________________________________________________________________________________\n",
      "block12_sepconv3 (SeparableConv (None, 9, 9, 728)    536536      block12_sepconv3_act[0][0]       \n",
      "__________________________________________________________________________________________________\n",
      "block12_sepconv3_bn (BatchNorma (None, 9, 9, 728)    2912        block12_sepconv3[0][0]           \n",
      "__________________________________________________________________________________________________\n",
      "add_11 (Add)                    (None, 9, 9, 728)    0           block12_sepconv3_bn[0][0]        \n",
      "                                                                 add_10[0][0]                     \n",
      "__________________________________________________________________________________________________\n",
      "block13_sepconv1_act (Activatio (None, 9, 9, 728)    0           add_11[0][0]                     \n",
      "__________________________________________________________________________________________________\n",
      "block13_sepconv1 (SeparableConv (None, 9, 9, 728)    536536      block13_sepconv1_act[0][0]       \n",
      "__________________________________________________________________________________________________\n",
      "block13_sepconv1_bn (BatchNorma (None, 9, 9, 728)    2912        block13_sepconv1[0][0]           \n",
      "__________________________________________________________________________________________________\n",
      "block13_sepconv2_act (Activatio (None, 9, 9, 728)    0           block13_sepconv1_bn[0][0]        \n",
      "__________________________________________________________________________________________________\n",
      "block13_sepconv2 (SeparableConv (None, 9, 9, 1024)   752024      block13_sepconv2_act[0][0]       \n",
      "__________________________________________________________________________________________________\n",
      "block13_sepconv2_bn (BatchNorma (None, 9, 9, 1024)   4096        block13_sepconv2[0][0]           \n",
      "__________________________________________________________________________________________________\n",
      "conv2d_4 (Conv2D)               (None, 5, 5, 1024)   745472      add_11[0][0]                     \n",
      "__________________________________________________________________________________________________\n",
      "block13_pool (MaxPooling2D)     (None, 5, 5, 1024)   0           block13_sepconv2_bn[0][0]        \n",
      "__________________________________________________________________________________________________\n",
      "batch_normalization_4 (BatchNor (None, 5, 5, 1024)   4096        conv2d_4[0][0]                   \n",
      "__________________________________________________________________________________________________\n",
      "add_12 (Add)                    (None, 5, 5, 1024)   0           block13_pool[0][0]               \n",
      "                                                                 batch_normalization_4[0][0]      \n",
      "__________________________________________________________________________________________________\n",
      "block14_sepconv1 (SeparableConv (None, 5, 5, 1536)   1582080     add_12[0][0]                     \n",
      "__________________________________________________________________________________________________\n",
      "block14_sepconv1_bn (BatchNorma (None, 5, 5, 1536)   6144        block14_sepconv1[0][0]           \n",
      "__________________________________________________________________________________________________\n",
      "block14_sepconv1_act (Activatio (None, 5, 5, 1536)   0           block14_sepconv1_bn[0][0]        \n",
      "__________________________________________________________________________________________________\n",
      "block14_sepconv2 (SeparableConv (None, 5, 5, 2048)   3159552     block14_sepconv1_act[0][0]       \n",
      "__________________________________________________________________________________________________\n",
      "block14_sepconv2_bn (BatchNorma (None, 5, 5, 2048)   8192        block14_sepconv2[0][0]           \n",
      "__________________________________________________________________________________________________\n",
      "block14_sepconv2_act (Activatio (None, 5, 5, 2048)   0           block14_sepconv2_bn[0][0]        \n",
      "==================================================================================================\n",
      "Total params: 20,861,480\n",
      "Trainable params: 20,806,952\n",
      "Non-trainable params: 54,528\n",
      "__________________________________________________________________________________________________\n"
     ]
    }
   ],
   "source": [
    "from keras.applications.xception import Xception\n",
    "\n",
    "conv_base = Xception(weights='imagenet',\n",
    "                 include_top=False,\n",
    "                 input_shape=(150, 150, 3))\n",
    "                 \n",
    "conv_base.summary()"
   ]
  },
  {
   "cell_type": "code",
   "execution_count": 8,
   "metadata": {},
   "outputs": [
    {
     "name": "stdout",
     "output_type": "stream",
     "text": [
      "_________________________________________________________________\n",
      "Layer (type)                 Output Shape              Param #   \n",
      "=================================================================\n",
      "xception (Model)             (None, 5, 5, 2048)        20861480  \n",
      "_________________________________________________________________\n",
      "flatten_2 (Flatten)          (None, 51200)             0         \n",
      "_________________________________________________________________\n",
      "dense_3 (Dense)              (None, 512)               26214912  \n",
      "_________________________________________________________________\n",
      "dense_4 (Dense)              (None, 62)                31806     \n",
      "=================================================================\n",
      "Total params: 47,108,198\n",
      "Trainable params: 26,246,718\n",
      "Non-trainable params: 20,861,480\n",
      "_________________________________________________________________\n"
     ]
    }
   ],
   "source": [
    "model = models.Sequential()\n",
    "\n",
    "model.add(conv_base)\n",
    "model.add(layers.Flatten())\n",
    "model.add(layers.Dense(512, activation='relu'))\n",
    "model.add(layers.Dense(62, activation='softmax'))\n",
    "model.summary()"
   ]
  },
  {
   "cell_type": "code",
   "execution_count": 9,
   "metadata": {
    "nbpresent": {
     "id": "70c2499f-5f23-4c74-a677-2c95ce180fb3"
    }
   },
   "outputs": [
    {
     "name": "stdout",
     "output_type": "stream",
     "text": [
      "This is the number of trainable weights before freezing the conv base: 4\n",
      "Epoch 1/2\n",
      "2275/2275 [==============================] - 605s 266ms/step - loss: 3.8871 - categorical_accuracy: 0.0368 - five_claas_diff: 0.3641 - ten_claas_diff: 0.6249 - val_loss: 4.1664 - val_categorical_accuracy: 0.0335 - val_five_claas_diff: 0.3712 - val_ten_claas_diff: 0.6445\n",
      "Epoch 2/2\n",
      "2275/2275 [==============================] - 464s 204ms/step - loss: 3.8078 - categorical_accuracy: 0.0422 - five_claas_diff: 0.3809 - ten_claas_diff: 0.6454 - val_loss: 4.8927 - val_categorical_accuracy: 0.0355 - val_five_claas_diff: 0.3618 - val_ten_claas_diff: 0.6206\n"
     ]
    }
   ],
   "source": [
    "conv_base.trainable = False\n",
    "print('This is the number of trainable weights before freezing the conv base:', len(model.trainable_weights))\n",
    "\n",
    "model.compile(\n",
    "    optimizer=optimizers.RMSprop(lr=1e-4), \n",
    "    loss=losses.categorical_crossentropy, \n",
    "    metrics=[metrics.categorical_accuracy, five_claas_diff, ten_claas_diff]\n",
    ")\n",
    "\n",
    "history = model.fit_generator(train_generator, \n",
    "                              steps_per_epoch=2275, \n",
    "                              epochs=2, \n",
    "                              validation_data=test_generator,\n",
    "                              callbacks=[keras.callbacks.ModelCheckpoint('checkpoints\\\\imdb_xception.h5', monitor='val_loss', verbose=0, save_best_only=True, save_weights_only=False, mode='auto', period=1)],\n",
    "                              validation_steps=250)"
   ]
  },
  {
   "cell_type": "code",
   "execution_count": 13,
   "metadata": {},
   "outputs": [
    {
     "name": "stderr",
     "output_type": "stream",
     "text": [
      "C:\\ProgramData\\Anaconda3\\lib\\site-packages\\keras\\engine\\saving.py:304: UserWarning: Error in loading the saved optimizer state. As a result, your model is starting with a freshly initialized optimizer.\n",
      "  warnings.warn('Error in loading the saved optimizer '\n"
     ]
    }
   ],
   "source": [
    "from keras.models import load_model\n",
    "try:\n",
    "    model = load_model('checkpoints\\\\imdb_xception.h5', custom_objects={'five_claas_diff': five_claas_diff, 'ten_claas_diff':ten_claas_diff})\n",
    "except:\n",
    "    pass"
   ]
  },
  {
   "cell_type": "markdown",
   "metadata": {
    "nbpresent": {
     "id": "6d025a19-0d6c-4b09-8c28-c9d1aff7fb93"
    }
   },
   "source": [
    "# Fine tuning"
   ]
  },
  {
   "cell_type": "code",
   "execution_count": 14,
   "metadata": {
    "nbpresent": {
     "id": "8b269e69-67ab-4921-bfef-084b23d17519"
    }
   },
   "outputs": [
    {
     "name": "stdout",
     "output_type": "stream",
     "text": [
      "Epoch 1/30\n",
      "2275/2275 [==============================] - 746s 328ms/step - loss: 3.7066 - categorical_accuracy: 0.0470 - five_claas_diff: 0.4369 - ten_claas_diff: 0.7056 - val_loss: 3.7514 - val_categorical_accuracy: 0.0471 - val_five_claas_diff: 0.4519 - val_ten_claas_diff: 0.7384\n",
      "Epoch 2/30\n",
      "2275/2275 [==============================] - 725s 319ms/step - loss: 3.6082 - categorical_accuracy: 0.0527 - five_claas_diff: 0.4868 - ten_claas_diff: 0.7544 - val_loss: 3.6826 - val_categorical_accuracy: 0.0545 - val_five_claas_diff: 0.5076 - val_ten_claas_diff: 0.7731\n",
      "Epoch 3/30\n",
      "2275/2275 [==============================] - 724s 318ms/step - loss: 3.5712 - categorical_accuracy: 0.0590 - five_claas_diff: 0.5120 - ten_claas_diff: 0.7719 - val_loss: 3.6154 - val_categorical_accuracy: 0.0605 - val_five_claas_diff: 0.5212 - val_ten_claas_diff: 0.7737\n",
      "Epoch 4/30\n",
      "2275/2275 [==============================] - 724s 318ms/step - loss: 3.4822 - categorical_accuracy: 0.0668 - five_claas_diff: 0.5574 - ten_claas_diff: 0.8006 - val_loss: 3.5736 - val_categorical_accuracy: 0.0608 - val_five_claas_diff: 0.5351 - val_ten_claas_diff: 0.7839\n",
      "Epoch 5/30\n",
      "2275/2275 [==============================] - 724s 318ms/step - loss: 3.4745 - categorical_accuracy: 0.0667 - five_claas_diff: 0.5617 - ten_claas_diff: 0.8056 - val_loss: 3.6526 - val_categorical_accuracy: 0.0632 - val_five_claas_diff: 0.5497 - val_ten_claas_diff: 0.7966\n",
      "Epoch 6/30\n",
      "2275/2275 [==============================] - 724s 318ms/step - loss: 3.4733 - categorical_accuracy: 0.0693 - five_claas_diff: 0.5651 - ten_claas_diff: 0.8028 - val_loss: 3.6509 - val_categorical_accuracy: 0.0613 - val_five_claas_diff: 0.5525 - val_ten_claas_diff: 0.8018\n",
      "Epoch 7/30\n",
      "2275/2275 [==============================] - 724s 318ms/step - loss: 3.3581 - categorical_accuracy: 0.0780 - five_claas_diff: 0.6179 - ten_claas_diff: 0.8325 - val_loss: 3.7340 - val_categorical_accuracy: 0.0642 - val_five_claas_diff: 0.5566 - val_ten_claas_diff: 0.7992\n"
     ]
    }
   ],
   "source": [
    "conv_base.trainable = True\n",
    "        \n",
    "model.compile(\n",
    "    optimizer=optimizers.RMSprop(lr=1e-4), \n",
    "    loss=losses.categorical_crossentropy, \n",
    "    metrics=[metrics.categorical_accuracy, five_claas_diff, ten_claas_diff]\n",
    ")\n",
    "\n",
    "history = model.fit_generator(train_generator, \n",
    "                              steps_per_epoch=2275, \n",
    "                              epochs=30, \n",
    "                              validation_data=test_generator, \n",
    "                              callbacks=[\n",
    "                                  keras.callbacks.ModelCheckpoint('checkpoints\\\\imdb_xception.h5', monitor='val_loss', verbose=0, save_best_only=True, save_weights_only=False, mode='auto', period=1),\n",
    "                                  keras.callbacks.EarlyStopping(monitor='val_loss', min_delta=0, patience=3, verbose=0, mode='auto')\n",
    "                              ],\n",
    "                              validation_steps=250)"
   ]
  },
  {
   "cell_type": "code",
   "execution_count": null,
   "metadata": {
    "nbpresent": {
     "id": "f880666d-d2c1-4c70-ae02-0ef8ea02f4df"
    }
   },
   "outputs": [],
   "source": [
    "import matplotlib.pyplot as plt\n",
    "\n",
    "acc = history.history['categorical_accuracy']\n",
    "val_acc = history.history['val_categorical_accuracy']\n",
    "val_5_acc = history.history['val_five_claas_diff']\n",
    "val_10_acc = history.history['val_ten_claas_diff']\n",
    "loss = history.history['loss']\n",
    "val_loss = history.history['val_loss']\n",
    "\n",
    "epochs = range(1, len(acc)+1)\n",
    "\n",
    "plt.plot(epochs, acc, 'bo', label='Training acc')\n",
    "plt.plot(epochs, val_acc, 'b', label='Validation acc')\n",
    "plt.plot(epochs, val_5_acc, 'r', label='5 class val acc')\n",
    "plt.plot(epochs, val_10_acc, 'g', label='10 class val acc')\n",
    "plt.title('Training and validation accuracy')\n",
    "plt.legend()\n",
    "\n",
    "plt.figure()\n",
    "plt.plot(epochs, loss, 'bo', label='Training losses')\n",
    "plt.plot(epochs, val_loss, 'b', label='Validation losses')\n",
    "plt.title('Training and validation loss')\n",
    "plt.legend()\n",
    "\n",
    "plt.show()"
   ]
  },
  {
   "cell_type": "code",
   "execution_count": null,
   "metadata": {},
   "outputs": [],
   "source": []
  }
 ],
 "metadata": {
  "anaconda-cloud": {},
  "kernelspec": {
   "display_name": "Python 3",
   "language": "python",
   "name": "python3"
  },
  "language_info": {
   "codemirror_mode": {
    "name": "ipython",
    "version": 3
   },
   "file_extension": ".py",
   "mimetype": "text/x-python",
   "name": "python",
   "nbconvert_exporter": "python",
   "pygments_lexer": "ipython3",
   "version": "3.6.5"
  },
  "nbpresent": {
   "slides": {
    "08b382d4-7cfd-44b7-ba86-5aaf1bdf7467": {
     "id": "08b382d4-7cfd-44b7-ba86-5aaf1bdf7467",
     "prev": "b788fbf4-2e2d-4ada-af60-d4ffb118b8dd",
     "regions": {
      "ebb25d97-f547-4bdf-8499-c4057cb4bd27": {
       "attrs": {
        "height": 0.8,
        "width": 0.8,
        "x": 0.1,
        "y": 0.1
       },
       "content": {
        "cell": "7a740cdd-b220-4f8c-9f00-b04ec0c0e428",
        "part": "whole"
       },
       "id": "ebb25d97-f547-4bdf-8499-c4057cb4bd27"
      }
     }
    },
    "2b6954a5-c5a8-4327-93c0-2139ba2ae502": {
     "id": "2b6954a5-c5a8-4327-93c0-2139ba2ae502",
     "prev": "57cd3675-b5ed-4d54-af9a-561a18aff854",
     "regions": {
      "291a451e-25e1-4e5b-b371-0690f1393d52": {
       "attrs": {
        "height": 0.8,
        "width": 0.8,
        "x": 0.1,
        "y": 0.1
       },
       "content": {
        "cell": "34084263-e47e-4396-86d3-6cd1ec6021f3",
        "part": "whole"
       },
       "id": "291a451e-25e1-4e5b-b371-0690f1393d52"
      }
     }
    },
    "2eab4f0d-0f96-43ba-90fd-f8a12143e0a2": {
     "id": "2eab4f0d-0f96-43ba-90fd-f8a12143e0a2",
     "prev": "d06d8163-b12b-4bee-aa58-b51885ec8ca3",
     "regions": {
      "40e5ba35-1251-49fc-b406-a37f18638b3e": {
       "attrs": {
        "height": 0.8,
        "width": 0.8,
        "x": 0.1,
        "y": 0.1
       },
       "content": {
        "cell": "a3b5d8fc-2ba0-4774-96cf-7552f2573184",
        "part": "whole"
       },
       "id": "40e5ba35-1251-49fc-b406-a37f18638b3e"
      }
     }
    },
    "431515f5-42f2-45c6-99ff-e95b72a3c71f": {
     "id": "431515f5-42f2-45c6-99ff-e95b72a3c71f",
     "prev": "570380d5-aa9d-4276-b72c-418d9d27866a",
     "regions": {
      "ac8d77d9-85f7-4760-bd72-aea876f046ea": {
       "attrs": {
        "height": 0.8,
        "width": 0.8,
        "x": 0.1,
        "y": 0.1
       },
       "content": {
        "cell": "3391e66e-8e74-4c8f-9ab0-6e5a3c5db925",
        "part": "whole"
       },
       "id": "ac8d77d9-85f7-4760-bd72-aea876f046ea"
      }
     }
    },
    "47c13b32-91a7-41d8-855b-62c2c979f4e6": {
     "id": "47c13b32-91a7-41d8-855b-62c2c979f4e6",
     "prev": "8c6657ca-9799-4e91-9249-344b9aa32638",
     "regions": {
      "b1a87982-1652-40f0-b348-70be73820afa": {
       "attrs": {
        "height": 0.8,
        "width": 0.8,
        "x": 0.1,
        "y": 0.1
       },
       "content": {
        "cell": "6d025a19-0d6c-4b09-8c28-c9d1aff7fb93",
        "part": "whole"
       },
       "id": "b1a87982-1652-40f0-b348-70be73820afa"
      }
     }
    },
    "570380d5-aa9d-4276-b72c-418d9d27866a": {
     "id": "570380d5-aa9d-4276-b72c-418d9d27866a",
     "prev": "08b382d4-7cfd-44b7-ba86-5aaf1bdf7467",
     "regions": {
      "2456fa97-5abb-452a-be94-beb3b915f326": {
       "attrs": {
        "height": 0.8,
        "width": 0.8,
        "x": 0.1,
        "y": 0.1
       },
       "content": {
        "cell": "70c2499f-5f23-4c74-a677-2c95ce180fb3",
        "part": "whole"
       },
       "id": "2456fa97-5abb-452a-be94-beb3b915f326"
      }
     }
    },
    "57cd3675-b5ed-4d54-af9a-561a18aff854": {
     "id": "57cd3675-b5ed-4d54-af9a-561a18aff854",
     "prev": "6f88066c-f841-438a-93df-9de4e1154017",
     "regions": {
      "6a48b604-6cc5-47f6-b0cd-196ff87b3b3d": {
       "attrs": {
        "height": 0.8,
        "width": 0.8,
        "x": 0.1,
        "y": 0.1
       },
       "content": {
        "cell": "f880666d-d2c1-4c70-ae02-0ef8ea02f4df",
        "part": "whole"
       },
       "id": "6a48b604-6cc5-47f6-b0cd-196ff87b3b3d"
      }
     }
    },
    "6f88066c-f841-438a-93df-9de4e1154017": {
     "id": "6f88066c-f841-438a-93df-9de4e1154017",
     "prev": "47c13b32-91a7-41d8-855b-62c2c979f4e6",
     "regions": {
      "c1b59b07-fb9b-4b29-b007-5c3d89c6d0f0": {
       "attrs": {
        "height": 0.8,
        "width": 0.8,
        "x": 0.1,
        "y": 0.1
       },
       "content": {
        "cell": "8b269e69-67ab-4921-bfef-084b23d17519",
        "part": "whole"
       },
       "id": "c1b59b07-fb9b-4b29-b007-5c3d89c6d0f0"
      }
     }
    },
    "79483e70-5d71-4c16-843c-2d6c05625b0b": {
     "id": "79483e70-5d71-4c16-843c-2d6c05625b0b",
     "prev": null,
     "regions": {
      "caa824ad-98ed-40c2-8108-69dd8b61014e": {
       "attrs": {
        "height": 0.8,
        "width": 0.8,
        "x": 0.1,
        "y": 0.1
       },
       "content": {
        "cell": "e5c51cfa-6c5e-4513-b67d-652d9be348a3",
        "part": "whole"
       },
       "id": "caa824ad-98ed-40c2-8108-69dd8b61014e"
      }
     }
    },
    "8c6657ca-9799-4e91-9249-344b9aa32638": {
     "id": "8c6657ca-9799-4e91-9249-344b9aa32638",
     "prev": "905cabf5-5242-4aae-bd5e-6b60b6fcf51b",
     "regions": {
      "be418888-a97b-4a77-a770-79320ecdbbbf": {
       "attrs": {
        "height": 0.8,
        "width": 0.8,
        "x": 0.1,
        "y": 0.1
       },
       "content": {
        "cell": "487646b7-6ddb-49cb-91e0-60e194238fb7",
        "part": "whole"
       },
       "id": "be418888-a97b-4a77-a770-79320ecdbbbf"
      }
     }
    },
    "905cabf5-5242-4aae-bd5e-6b60b6fcf51b": {
     "id": "905cabf5-5242-4aae-bd5e-6b60b6fcf51b",
     "prev": "431515f5-42f2-45c6-99ff-e95b72a3c71f",
     "regions": {
      "19fec759-54e3-425e-97ef-c01d2b0c3d79": {
       "attrs": {
        "height": 0.8,
        "width": 0.8,
        "x": 0.1,
        "y": 0.1
       },
       "content": {
        "cell": "64ee59f5-1121-4928-932b-0c623008905c",
        "part": "whole"
       },
       "id": "19fec759-54e3-425e-97ef-c01d2b0c3d79"
      }
     }
    },
    "b788fbf4-2e2d-4ada-af60-d4ffb118b8dd": {
     "id": "b788fbf4-2e2d-4ada-af60-d4ffb118b8dd",
     "prev": "b7a4b19d-ff68-4c08-a4ec-b541f3f57628",
     "regions": {
      "6decc806-82f8-4f74-a04d-5225fdbcb592": {
       "attrs": {
        "height": 0.8,
        "width": 0.8,
        "x": 0.1,
        "y": 0.1
       },
       "content": {
        "cell": "c87a39f2-ce0b-4362-b81b-776be38e7f1d",
        "part": "whole"
       },
       "id": "6decc806-82f8-4f74-a04d-5225fdbcb592"
      }
     }
    },
    "b7a4b19d-ff68-4c08-a4ec-b541f3f57628": {
     "id": "b7a4b19d-ff68-4c08-a4ec-b541f3f57628",
     "prev": "2eab4f0d-0f96-43ba-90fd-f8a12143e0a2",
     "regions": {
      "61035287-28b7-4d76-b4b2-b7141e8bd6de": {
       "attrs": {
        "height": 0.8,
        "width": 0.8,
        "x": 0.1,
        "y": 0.1
       },
       "content": {
        "cell": "b527b4b7-7503-4262-9b13-2e79c663e339",
        "part": "whole"
       },
       "id": "61035287-28b7-4d76-b4b2-b7141e8bd6de"
      }
     }
    },
    "d06d8163-b12b-4bee-aa58-b51885ec8ca3": {
     "id": "d06d8163-b12b-4bee-aa58-b51885ec8ca3",
     "prev": "79483e70-5d71-4c16-843c-2d6c05625b0b",
     "regions": {
      "321fb641-30a8-4d25-8af7-97ce397f44bb": {
       "attrs": {
        "height": 0.8,
        "width": 0.8,
        "x": 0.1,
        "y": 0.1
       },
       "content": {
        "cell": "56968b8c-d213-4d1d-b337-bc4ffec29a11",
        "part": "whole"
       },
       "id": "321fb641-30a8-4d25-8af7-97ce397f44bb"
      }
     }
    }
   },
   "themes": {}
  }
 },
 "nbformat": 4,
 "nbformat_minor": 2
}
