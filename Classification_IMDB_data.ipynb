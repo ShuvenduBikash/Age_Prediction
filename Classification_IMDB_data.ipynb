{
 "cells": [
  {
   "cell_type": "markdown",
   "metadata": {
    "colab_type": "text",
    "id": "tIfKiIMkESdl"
   },
   "source": [
    "# Collecting the data"
   ]
  },
  {
   "cell_type": "code",
   "execution_count": 0,
   "metadata": {
    "colab": {
     "autoexec": {
      "startup": false,
      "wait_interval": 0
     }
    },
    "colab_type": "code",
    "collapsed": true,
    "id": "zBcR2vNWD9It"
   },
   "outputs": [],
   "source": [
    "!wget https://data.vision.ee.ethz.ch/cvl/rrothe/imdb-wiki/static/imdb_crop.tar"
   ]
  },
  {
   "cell_type": "markdown",
   "metadata": {
    "colab_type": "text",
    "id": "OYDq4e5YEXWh"
   },
   "source": [
    "# Processing the data"
   ]
  },
  {
   "cell_type": "code",
   "execution_count": 0,
   "metadata": {
    "colab": {
     "autoexec": {
      "startup": false,
      "wait_interval": 0
     }
    },
    "colab_type": "code",
    "collapsed": true,
    "id": "Qcd8YIcZD-64"
   },
   "outputs": [],
   "source": [
    "!rm -r data"
   ]
  },
  {
   "cell_type": "code",
   "execution_count": 30,
   "metadata": {
    "colab": {
     "autoexec": {
      "startup": false,
      "wait_interval": 0
     },
     "base_uri": "https://localhost:8080/",
     "height": 34,
     "output_extras": [
      {
       "item_id": 1
      }
     ]
    },
    "colab_type": "code",
    "collapsed": false,
    "executionInfo": {
     "elapsed": 1558,
     "status": "ok",
     "timestamp": 1519927027721,
     "user": {
      "displayName": "Shuvendu Bikash",
      "photoUrl": "//lh6.googleusercontent.com/-qmLdelcDhNY/AAAAAAAAAAI/AAAAAAAAOyw/0BejXT-_QPo/s50-c-k-no/photo.jpg",
      "userId": "106434026064423574094"
     },
     "user_tz": -360
    },
    "id": "NBflSkP5tcUV",
    "outputId": "b77d7529-9308-4ffb-f2d6-9e86c1877608"
   },
   "outputs": [
    {
     "name": "stdout",
     "output_type": "stream",
     "text": [
      "datalab  imdb_crop  imdb_crop.tar\r\n"
     ]
    }
   ],
   "source": [
    "!ls"
   ]
  },
  {
   "cell_type": "code",
   "execution_count": 0,
   "metadata": {
    "colab": {
     "autoexec": {
      "startup": false,
      "wait_interval": 0
     }
    },
    "colab_type": "code",
    "collapsed": true,
    "id": "0bfoxt56fXTm"
   },
   "outputs": [],
   "source": [
    " !tar -xvf imdb_crop.tar"
   ]
  },
  {
   "cell_type": "code",
   "execution_count": 32,
   "metadata": {
    "colab": {
     "autoexec": {
      "startup": false,
      "wait_interval": 0
     },
     "base_uri": "https://localhost:8080/",
     "height": 119,
     "output_extras": [
      {
       "item_id": 1
      }
     ]
    },
    "colab_type": "code",
    "collapsed": false,
    "executionInfo": {
     "elapsed": 3729,
     "status": "ok",
     "timestamp": 1519927126496,
     "user": {
      "displayName": "Shuvendu Bikash",
      "photoUrl": "//lh6.googleusercontent.com/-qmLdelcDhNY/AAAAAAAAAAI/AAAAAAAAOyw/0BejXT-_QPo/s50-c-k-no/photo.jpg",
      "userId": "106434026064423574094"
     },
     "user_tz": -360
    },
    "id": "4ViXAADCipS-",
    "outputId": "825dfa64-79fb-4a45-e80d-7e686f55d1b7"
   },
   "outputs": [
    {
     "name": "stdout",
     "output_type": "stream",
     "text": [
      "00  06\t12  18\t24  30\t36  42\t48  54\t60  66\t72  78\t84  90\t96\r\n",
      "01  07\t13  19\t25  31\t37  43\t49  55\t61  67\t73  79\t85  91\t97\r\n",
      "02  08\t14  20\t26  32\t38  44\t50  56\t62  68\t74  80\t86  92\t98\r\n",
      "03  09\t15  21\t27  33\t39  45\t51  57\t63  69\t75  81\t87  93\t99\r\n",
      "04  10\t16  22\t28  34\t40  46\t52  58\t64  70\t76  82\t88  94\timdb.mat\r\n",
      "05  11\t17  23\t29  35\t41  47\t53  59\t65  71\t77  83\t89  95\r\n"
     ]
    }
   ],
   "source": [
    "!ls imdb_crop"
   ]
  },
  {
   "cell_type": "code",
   "execution_count": 0,
   "metadata": {
    "colab": {
     "autoexec": {
      "startup": false,
      "wait_interval": 0
     }
    },
    "colab_type": "code",
    "collapsed": true,
    "id": "PbcQYCxiisq4"
   },
   "outputs": [],
   "source": [
    "import scipy.io\n",
    "mat = scipy.io.loadmat('imdb_crop/imdb.mat')"
   ]
  },
  {
   "cell_type": "code",
   "execution_count": 34,
   "metadata": {
    "colab": {
     "autoexec": {
      "startup": false,
      "wait_interval": 0
     },
     "base_uri": "https://localhost:8080/",
     "height": 530,
     "output_extras": [
      {
       "item_id": 1
      }
     ]
    },
    "colab_type": "code",
    "collapsed": false,
    "executionInfo": {
     "elapsed": 1147,
     "status": "ok",
     "timestamp": 1519927146850,
     "user": {
      "displayName": "Shuvendu Bikash",
      "photoUrl": "//lh6.googleusercontent.com/-qmLdelcDhNY/AAAAAAAAAAI/AAAAAAAAOyw/0BejXT-_QPo/s50-c-k-no/photo.jpg",
      "userId": "106434026064423574094"
     },
     "user_tz": -360
    },
    "id": "ZCWP-kami-Fs",
    "outputId": "4b0d459d-3e31-48d8-a45c-f8ad9b69cc81"
   },
   "outputs": [
    {
     "data": {
      "text/plain": [
       "{'__globals__': [],\n",
       " '__header__': b'MATLAB 5.0 MAT-file, Platform: GLNXA64, Created on: Sun Jan 17 11:30:27 2016',\n",
       " '__version__': '1.0',\n",
       " 'imdb': array([[(array([[693726, 693726, 693726, ..., 726831, 726831, 726831]], dtype=int32), array([[1968, 1970, 1968, ..., 2011, 2011, 2011]], dtype=uint16), array([[array(['01/nm0000001_rm124825600_1899-5-10_1968.jpg'], dtype='<U43'),\n",
       "         array(['01/nm0000001_rm3343756032_1899-5-10_1970.jpg'], dtype='<U44'),\n",
       "         array(['01/nm0000001_rm577153792_1899-5-10_1968.jpg'], dtype='<U43'),\n",
       "         ...,\n",
       "         array(['08/nm3994408_rm926592512_1989-12-29_2011.jpg'], dtype='<U44'),\n",
       "         array(['08/nm3994408_rm943369728_1989-12-29_2011.jpg'], dtype='<U44'),\n",
       "         array(['08/nm3994408_rm976924160_1989-12-29_2011.jpg'], dtype='<U44')]],\n",
       "       dtype=object), array([[1., 1., 1., ..., 0., 0., 0.]]), array([[array(['Fred Astaire'], dtype='<U12'),\n",
       "         array(['Fred Astaire'], dtype='<U12'),\n",
       "         array(['Fred Astaire'], dtype='<U12'), ...,\n",
       "         array(['Jane Levy'], dtype='<U9'),\n",
       "         array(['Jane Levy'], dtype='<U9'),\n",
       "         array(['Jane Levy'], dtype='<U9')]], dtype=object), array([[array([[1072.926,  161.838, 1214.784,  303.696]]),\n",
       "         array([[477.184, 100.352, 622.592, 245.76 ]]),\n",
       "         array([[114.96964309, 114.96964309, 451.68657236, 451.68657236]]),\n",
       "         ..., array([[  1,   1, 453, 640]], dtype=uint16),\n",
       "         array([[144.75225472, 126.76472288, 305.78804127, 287.80050943]]),\n",
       "         array([[457.524,  41.748, 518.016, 102.24 ]])]], dtype=object), array([[1.45969291, 2.5431976 , 3.45557949, ...,       -inf, 4.45072452,\n",
       "         2.13350269]]), array([[1.11897336, 1.85200773, 2.98566022, ...,        nan,        nan,\n",
       "                nan]]), array([[array([\"'Lee' George Quinones\"], dtype='<U21'),\n",
       "         array([\"'Weird Al' Yankovic\"], dtype='<U19'),\n",
       "         array(['2 Chainz'], dtype='<U8'), ...,\n",
       "         array(['Éric Caravaca'], dtype='<U13'),\n",
       "         array(['Ólafur Darri Ólafsson'], dtype='<U21'),\n",
       "         array(['Óscar Jaenada'], dtype='<U13')]], dtype=object), array([[6488, 6488, 6488, ..., 8410, 8410, 8410]], dtype=uint16))]],\n",
       "       dtype=[('dob', 'O'), ('photo_taken', 'O'), ('full_path', 'O'), ('gender', 'O'), ('name', 'O'), ('face_location', 'O'), ('face_score', 'O'), ('second_face_score', 'O'), ('celeb_names', 'O'), ('celeb_id', 'O')])}"
      ]
     },
     "execution_count": 34,
     "metadata": {
      "tags": []
     },
     "output_type": "execute_result"
    }
   ],
   "source": [
    "mat"
   ]
  },
  {
   "cell_type": "code",
   "execution_count": 0,
   "metadata": {
    "colab": {
     "autoexec": {
      "startup": false,
      "wait_interval": 0
     },
     "base_uri": "https://localhost:8080/",
     "height": 34,
     "output_extras": [
      {}
     ]
    },
    "colab_type": "code",
    "collapsed": false,
    "executionInfo": {
     "elapsed": 2804,
     "status": "ok",
     "timestamp": 1519548087119,
     "user": {
      "displayName": "Shuvendu Bikash",
      "photoUrl": "//lh6.googleusercontent.com/-qmLdelcDhNY/AAAAAAAAAAI/AAAAAAAAOyw/0BejXT-_QPo/s50-c-k-no/photo.jpg",
      "userId": "106434026064423574094"
     },
     "user_tz": -360
    },
    "id": "ooI8MrgHjfM6",
    "outputId": "1294797d-0b64-47f4-bab3-920dd97a0874"
   },
   "outputs": [
    {
     "data": {
      "text/plain": [
       "(1, 1)"
      ]
     },
     "execution_count": 8,
     "metadata": {
      "tags": []
     },
     "output_type": "execute_result"
    }
   ],
   "source": [
    "mat['imdb'].shape"
   ]
  },
  {
   "cell_type": "code",
   "execution_count": 35,
   "metadata": {
    "colab": {
     "autoexec": {
      "startup": false,
      "wait_interval": 0
     },
     "base_uri": "https://localhost:8080/",
     "height": 51,
     "output_extras": [
      {
       "item_id": 1
      },
      {
       "item_id": 2
      }
     ]
    },
    "colab_type": "code",
    "collapsed": false,
    "executionInfo": {
     "elapsed": 1223,
     "status": "ok",
     "timestamp": 1519927153835,
     "user": {
      "displayName": "Shuvendu Bikash",
      "photoUrl": "//lh6.googleusercontent.com/-qmLdelcDhNY/AAAAAAAAAAI/AAAAAAAAOyw/0BejXT-_QPo/s50-c-k-no/photo.jpg",
      "userId": "106434026064423574094"
     },
     "user_tz": -360
    },
    "id": "BaBEbxeBjsWi",
    "outputId": "b772e3d9-3aec-497a-b04e-fc21869da79c"
   },
   "outputs": [
    {
     "name": "stdout",
     "output_type": "stream",
     "text": [
      "(1, 460723)\n"
     ]
    },
    {
     "data": {
      "text/plain": [
       "array([[693726, 693726, 693726, ..., 726831, 726831, 726831]], dtype=int32)"
      ]
     },
     "execution_count": 35,
     "metadata": {
      "tags": []
     },
     "output_type": "execute_result"
    }
   ],
   "source": [
    "dob = mat['imdb'][0, 0][0]\n",
    "print(dob.shape)\n",
    "dob"
   ]
  },
  {
   "cell_type": "code",
   "execution_count": 0,
   "metadata": {
    "colab": {
     "autoexec": {
      "startup": false,
      "wait_interval": 0
     }
    },
    "colab_type": "code",
    "collapsed": true,
    "id": "KeJRCYaNj841"
   },
   "outputs": [],
   "source": [
    "photo_taken = mat['imdb'][0, 0][1]\n",
    "full_path = mat['imdb'][0, 0][2]\n",
    "gender = mat['imdb'][0, 0][3]"
   ]
  },
  {
   "cell_type": "markdown",
   "metadata": {
    "colab_type": "text",
    "id": "upigDiD49j5e"
   },
   "source": [
    "### Calculating age"
   ]
  },
  {
   "cell_type": "code",
   "execution_count": 37,
   "metadata": {
    "colab": {
     "autoexec": {
      "startup": false,
      "wait_interval": 0
     },
     "base_uri": "https://localhost:8080/",
     "height": 34,
     "output_extras": [
      {
       "item_id": 1
      }
     ]
    },
    "colab_type": "code",
    "collapsed": false,
    "executionInfo": {
     "elapsed": 4936,
     "status": "ok",
     "timestamp": 1519927161166,
     "user": {
      "displayName": "Shuvendu Bikash",
      "photoUrl": "//lh6.googleusercontent.com/-qmLdelcDhNY/AAAAAAAAAAI/AAAAAAAAOyw/0BejXT-_QPo/s50-c-k-no/photo.jpg",
      "userId": "106434026064423574094"
     },
     "user_tz": -360
    },
    "id": "anPzJqWwkFaK",
    "outputId": "6080ec4b-3f9e-4812-807d-8003de6c42b0"
   },
   "outputs": [
    {
     "name": "stdout",
     "output_type": "stream",
     "text": [
      "111\n"
     ]
    }
   ],
   "source": [
    "from datetime import datetime, timedelta\n",
    "import numpy as np\n",
    "\n",
    "\n",
    "train_len = 430000\n",
    "test_len = dob.shape[1] - train_len\n",
    "\n",
    "age = np.zeros_like(dob)\n",
    "false_age = 0\n",
    "\n",
    "for i in range(train_len):\n",
    "    matlab_datenum = float(dob[0][i])\n",
    "    try:\n",
    "      python_datetime = datetime.fromordinal(int(matlab_datenum)) + timedelta(days=matlab_datenum%1) - timedelta(days = 366)\n",
    "      age[0][i] = np.abs(python_datetime.year - photo_taken[0][i])\n",
    "    except:\n",
    "      false_age += 1\n",
    "      age[0][i] = 20\n",
    "\n",
    "print(false_age)"
   ]
  },
  {
   "cell_type": "markdown",
   "metadata": {
    "colab_type": "text",
    "id": "GLlS2guO9qUr"
   },
   "source": [
    "### Create 100 directory for 100 age"
   ]
  },
  {
   "cell_type": "code",
   "execution_count": 0,
   "metadata": {
    "colab": {
     "autoexec": {
      "startup": false,
      "wait_interval": 0
     }
    },
    "colab_type": "code",
    "collapsed": true,
    "id": "Lh744AAhvrcG"
   },
   "outputs": [],
   "source": [
    "!rm -r data"
   ]
  },
  {
   "cell_type": "code",
   "execution_count": 0,
   "metadata": {
    "colab": {
     "autoexec": {
      "startup": false,
      "wait_interval": 0
     }
    },
    "colab_type": "code",
    "collapsed": true,
    "id": "XcWRayjV9pp1"
   },
   "outputs": [],
   "source": [
    "import os\n",
    "import shutil\n",
    "\n",
    "for i in range(1, 100):\n",
    "    directory = 'data/train/'+str(i)\n",
    "    if not os.path.exists(directory):\n",
    "        os.makedirs(directory)\n",
    "    \n",
    "    directory = 'data/test/'+str(i)\n",
    "    if not os.path.exists(directory):\n",
    "        os.makedirs(directory)"
   ]
  },
  {
   "cell_type": "code",
   "execution_count": 0,
   "metadata": {
    "colab": {
     "autoexec": {
      "startup": false,
      "wait_interval": 0
     }
    },
    "colab_type": "code",
    "collapsed": true,
    "id": "8m69eG8-kSYW"
   },
   "outputs": [],
   "source": [
    "import random\n",
    "n = dob.shape[1]\n",
    "\n",
    "index = random.sample(range(0, n), n)\n",
    "\n",
    "for i in range(train_len):\n",
    "    src = full_path[0][index[i]][0]\n",
    "    des = src.split('/')\n",
    "    \n",
    "    directory = 'data/train/'+str(age[0][index[i]])     \n",
    "    src = \"imdb_crop/\"+str(des[0]+\"/\"+des[1])\n",
    "    des =  directory+'/'+des[1]\n",
    "    \n",
    "    if age[0][index[i]]<100 and age[0][index[i]] != 0:\n",
    "      shutil.copy(src, des)\n",
    "\n",
    "\n",
    "for i in range(train_len, train_len + test_len):\n",
    "    src = full_path[0][index[i]][0]\n",
    "    des = src.split('/')\n",
    "    \n",
    "    directory = 'data/test/'+str(age[0][index[i]])      \n",
    "    src = \"imdb_crop/\"+str(des[0]+\"/\"+des[1])\n",
    "    des =  directory+'/'+des[1]\n",
    "    \n",
    "    if age[0][index[i]]<100 and age[0][index[i]] != 0:\n",
    "      shutil.copy(src, des)\n",
    "    "
   ]
  },
  {
   "cell_type": "code",
   "execution_count": 47,
   "metadata": {
    "colab": {
     "autoexec": {
      "startup": false,
      "wait_interval": 0
     },
     "base_uri": "https://localhost:8080/",
     "height": 102,
     "output_extras": [
      {
       "item_id": 1
      }
     ]
    },
    "colab_type": "code",
    "collapsed": false,
    "executionInfo": {
     "elapsed": 967,
     "status": "ok",
     "timestamp": 1519928014527,
     "user": {
      "displayName": "Shuvendu Bikash",
      "photoUrl": "//lh6.googleusercontent.com/-qmLdelcDhNY/AAAAAAAAAAI/AAAAAAAAOyw/0BejXT-_QPo/s50-c-k-no/photo.jpg",
      "userId": "106434026064423574094"
     },
     "user_tz": -360
    },
    "id": "Jl3y5jDGJxjs",
    "outputId": "155314ad-24ab-4fd9-d53c-4630ea681308"
   },
   "outputs": [
    {
     "name": "stdout",
     "output_type": "stream",
     "text": [
      "1   14\t19  23\t28  32\t37  41\t46  50\t55  6\t64  69\t73  78\t82  87\t91  96\r\n",
      "10  15\t2   24\t29  33\t38  42\t47  51\t56  60\t65  7\t74  79\t83  88\t92  97\r\n",
      "11  16\t20  25\t3   34\t39  43\t48  52\t57  61\t66  70\t75  8\t84  89\t93  98\r\n",
      "12  17\t21  26\t30  35\t4   44\t49  53\t58  62\t67  71\t76  80\t85  9\t94  99\r\n",
      "13  18\t22  27\t31  36\t40  45\t5   54\t59  63\t68  72\t77  81\t86  90\t95\r\n"
     ]
    }
   ],
   "source": [
    "!ls data/train"
   ]
  },
  {
   "cell_type": "markdown",
   "metadata": {
    "colab_type": "text",
    "id": "0ZI9q1O9Ea5k"
   },
   "source": [
    "# Building the model\n",
    "This is a very big dataset with a lot of class and the accuracy of classification task is not expected to be very high. But still it is the first option to check. \n",
    "\n",
    "Here I am directly approaching with pretrained model"
   ]
  },
  {
   "cell_type": "markdown",
   "metadata": {
    "colab_type": "text",
    "id": "YvEc_Id7oQ5V"
   },
   "source": [
    "## Loading dataset"
   ]
  },
  {
   "cell_type": "code",
   "execution_count": 0,
   "metadata": {
    "colab": {
     "autoexec": {
      "startup": false,
      "wait_interval": 0
     }
    },
    "colab_type": "code",
    "collapsed": true,
    "id": "yoTtjY0iEaYr"
   },
   "outputs": [],
   "source": [
    "import os, shutil\n",
    "train_dir = 'data/train'\n",
    "test_dir = 'data/test'"
   ]
  },
  {
   "cell_type": "code",
   "execution_count": 0,
   "metadata": {
    "colab": {
     "autoexec": {
      "startup": false,
      "wait_interval": 0
     }
    },
    "colab_type": "code",
    "collapsed": true,
    "id": "nKLegpewpAq-"
   },
   "outputs": [],
   "source": [
    "# https://keras.io/\n",
    "!pip install -q keras\n",
    "import keras"
   ]
  },
  {
   "cell_type": "code",
   "execution_count": 50,
   "metadata": {
    "colab": {
     "autoexec": {
      "startup": false,
      "wait_interval": 0
     },
     "base_uri": "https://localhost:8080/",
     "height": 51,
     "output_extras": [
      {
       "item_id": 2
      }
     ]
    },
    "colab_type": "code",
    "collapsed": false,
    "executionInfo": {
     "elapsed": 28452,
     "status": "ok",
     "timestamp": 1519928048425,
     "user": {
      "displayName": "Shuvendu Bikash",
      "photoUrl": "//lh6.googleusercontent.com/-qmLdelcDhNY/AAAAAAAAAAI/AAAAAAAAOyw/0BejXT-_QPo/s50-c-k-no/photo.jpg",
      "userId": "106434026064423574094"
     },
     "user_tz": -360
    },
    "id": "_UYM3PRaoZfH",
    "outputId": "1bb0882a-65a6-47db-a6c9-b6c67df12265"
   },
   "outputs": [
    {
     "name": "stdout",
     "output_type": "stream",
     "text": [
      "Found 401235 images belonging to 99 classes.\n",
      "Found 28684 images belonging to 99 classes.\n"
     ]
    }
   ],
   "source": [
    "from keras import models, layers, losses, optimizers, metrics\n",
    "from keras.preprocessing.image import ImageDataGenerator\n",
    "\n",
    "train_datagen = ImageDataGenerator(rescale=1./255)\n",
    "test_datagen = ImageDataGenerator(rescale=1./255)\n",
    "\n",
    "train_generator = train_datagen.flow_from_directory(\n",
    "    train_dir, \n",
    "    target_size=(150, 150), \n",
    "    batch_size=32\n",
    ")\n",
    "\n",
    "test_generator = test_datagen.flow_from_directory(\n",
    "    test_dir, \n",
    "    target_size=(150, 150), \n",
    "    batch_size=32\n",
    ")"
   ]
  },
  {
   "cell_type": "markdown",
   "metadata": {
    "colab_type": "text",
    "id": "l2JqgzlTxfl7"
   },
   "source": [
    "# Try using pretrined model"
   ]
  },
  {
   "cell_type": "code",
   "execution_count": 51,
   "metadata": {
    "colab": {
     "autoexec": {
      "startup": false,
      "wait_interval": 0
     },
     "base_uri": "https://localhost:8080/",
     "height": 51,
     "output_extras": [
      {
       "item_id": 5
      }
     ]
    },
    "colab_type": "code",
    "collapsed": false,
    "executionInfo": {
     "elapsed": 5416,
     "status": "ok",
     "timestamp": 1519928123265,
     "user": {
      "displayName": "Shuvendu Bikash",
      "photoUrl": "//lh6.googleusercontent.com/-qmLdelcDhNY/AAAAAAAAAAI/AAAAAAAAOyw/0BejXT-_QPo/s50-c-k-no/photo.jpg",
      "userId": "106434026064423574094"
     },
     "user_tz": -360
    },
    "id": "-u6fHAiVxfDM",
    "outputId": "ed18caae-c664-4b31-f891-2850f4453f27"
   },
   "outputs": [
    {
     "name": "stdout",
     "output_type": "stream",
     "text": [
      "Downloading data from https://github.com/fchollet/deep-learning-models/releases/download/v0.1/vgg16_weights_tf_dim_ordering_tf_kernels_notop.h5\n",
      "58892288/58889256 [==============================] - 1s 0us/step\n"
     ]
    }
   ],
   "source": [
    "from keras.applications import VGG16\n",
    "\n",
    "conv_base = VGG16(weights='imagenet',\n",
    "                 include_top=False,\n",
    "                 input_shape=(150, 150, 3))\n"
   ]
  },
  {
   "cell_type": "code",
   "execution_count": 52,
   "metadata": {
    "colab": {
     "autoexec": {
      "startup": false,
      "wait_interval": 0
     },
     "base_uri": "https://localhost:8080/",
     "height": 782,
     "output_extras": [
      {
       "item_id": 1
      }
     ]
    },
    "colab_type": "code",
    "collapsed": false,
    "executionInfo": {
     "elapsed": 955,
     "status": "ok",
     "timestamp": 1519928161328,
     "user": {
      "displayName": "Shuvendu Bikash",
      "photoUrl": "//lh6.googleusercontent.com/-qmLdelcDhNY/AAAAAAAAAAI/AAAAAAAAOyw/0BejXT-_QPo/s50-c-k-no/photo.jpg",
      "userId": "106434026064423574094"
     },
     "user_tz": -360
    },
    "id": "-3Y543xJbq39",
    "outputId": "25b08229-95dc-455e-a49f-bb1e4beb794e"
   },
   "outputs": [
    {
     "name": "stdout",
     "output_type": "stream",
     "text": [
      "_________________________________________________________________\n",
      "Layer (type)                 Output Shape              Param #   \n",
      "=================================================================\n",
      "input_1 (InputLayer)         (None, 150, 150, 3)       0         \n",
      "_________________________________________________________________\n",
      "block1_conv1 (Conv2D)        (None, 150, 150, 64)      1792      \n",
      "_________________________________________________________________\n",
      "block1_conv2 (Conv2D)        (None, 150, 150, 64)      36928     \n",
      "_________________________________________________________________\n",
      "block1_pool (MaxPooling2D)   (None, 75, 75, 64)        0         \n",
      "_________________________________________________________________\n",
      "block2_conv1 (Conv2D)        (None, 75, 75, 128)       73856     \n",
      "_________________________________________________________________\n",
      "block2_conv2 (Conv2D)        (None, 75, 75, 128)       147584    \n",
      "_________________________________________________________________\n",
      "block2_pool (MaxPooling2D)   (None, 37, 37, 128)       0         \n",
      "_________________________________________________________________\n",
      "block3_conv1 (Conv2D)        (None, 37, 37, 256)       295168    \n",
      "_________________________________________________________________\n",
      "block3_conv2 (Conv2D)        (None, 37, 37, 256)       590080    \n",
      "_________________________________________________________________\n",
      "block3_conv3 (Conv2D)        (None, 37, 37, 256)       590080    \n",
      "_________________________________________________________________\n",
      "block3_pool (MaxPooling2D)   (None, 18, 18, 256)       0         \n",
      "_________________________________________________________________\n",
      "block4_conv1 (Conv2D)        (None, 18, 18, 512)       1180160   \n",
      "_________________________________________________________________\n",
      "block4_conv2 (Conv2D)        (None, 18, 18, 512)       2359808   \n",
      "_________________________________________________________________\n",
      "block4_conv3 (Conv2D)        (None, 18, 18, 512)       2359808   \n",
      "_________________________________________________________________\n",
      "block4_pool (MaxPooling2D)   (None, 9, 9, 512)         0         \n",
      "_________________________________________________________________\n",
      "block5_conv1 (Conv2D)        (None, 9, 9, 512)         2359808   \n",
      "_________________________________________________________________\n",
      "block5_conv2 (Conv2D)        (None, 9, 9, 512)         2359808   \n",
      "_________________________________________________________________\n",
      "block5_conv3 (Conv2D)        (None, 9, 9, 512)         2359808   \n",
      "_________________________________________________________________\n",
      "block5_pool (MaxPooling2D)   (None, 4, 4, 512)         0         \n",
      "=================================================================\n",
      "Total params: 14,714,688\n",
      "Trainable params: 14,714,688\n",
      "Non-trainable params: 0\n",
      "_________________________________________________________________\n"
     ]
    }
   ],
   "source": [
    "conv_base.summary()"
   ]
  },
  {
   "cell_type": "code",
   "execution_count": 53,
   "metadata": {
    "colab": {
     "autoexec": {
      "startup": false,
      "wait_interval": 0
     },
     "base_uri": "https://localhost:8080/",
     "height": 272,
     "output_extras": [
      {
       "item_id": 1
      }
     ]
    },
    "colab_type": "code",
    "collapsed": false,
    "executionInfo": {
     "elapsed": 1167,
     "status": "ok",
     "timestamp": 1519928255803,
     "user": {
      "displayName": "Shuvendu Bikash",
      "photoUrl": "//lh6.googleusercontent.com/-qmLdelcDhNY/AAAAAAAAAAI/AAAAAAAAOyw/0BejXT-_QPo/s50-c-k-no/photo.jpg",
      "userId": "106434026064423574094"
     },
     "user_tz": -360
    },
    "id": "HTYqs3O1xzAb",
    "outputId": "14b91367-dd76-4155-8c76-8fed484789c1"
   },
   "outputs": [
    {
     "name": "stdout",
     "output_type": "stream",
     "text": [
      "_________________________________________________________________\n",
      "Layer (type)                 Output Shape              Param #   \n",
      "=================================================================\n",
      "vgg16 (Model)                (None, 4, 4, 512)         14714688  \n",
      "_________________________________________________________________\n",
      "flatten_1 (Flatten)          (None, 8192)              0         \n",
      "_________________________________________________________________\n",
      "dense_1 (Dense)              (None, 512)               4194816   \n",
      "_________________________________________________________________\n",
      "dense_2 (Dense)              (None, 99)                50787     \n",
      "=================================================================\n",
      "Total params: 18,960,291\n",
      "Trainable params: 18,960,291\n",
      "Non-trainable params: 0\n",
      "_________________________________________________________________\n"
     ]
    }
   ],
   "source": [
    "model = models.Sequential()\n",
    "\n",
    "model.add(conv_base)\n",
    "model.add(layers.Flatten())\n",
    "model.add(layers.Dense(512, activation='relu'))\n",
    "model.add(layers.Dense(99, activation='softmax'))\n",
    "model.summary()"
   ]
  },
  {
   "cell_type": "code",
   "execution_count": 56,
   "metadata": {
    "colab": {
     "autoexec": {
      "startup": false,
      "wait_interval": 0
     },
     "base_uri": "https://localhost:8080/",
     "height": 394,
     "output_extras": [
      {
       "item_id": 210
      },
      {
       "item_id": 600
      },
      {
       "item_id": 984
      },
      {
       "item_id": 1259
      },
      {
       "item_id": 1465
      },
      {
       "item_id": 1646
      },
      {
       "item_id": 1845
      },
      {
       "item_id": 2190
      },
      {
       "item_id": 2574
      },
      {
       "item_id": 3011
      },
      {
       "item_id": 3460
      },
      {
       "item_id": 3917
      },
      {
       "item_id": 4310
      },
      {
       "item_id": 4549
      },
      {
       "item_id": 4731
      },
      {
       "item_id": 4912
      },
      {
       "item_id": 5129
      },
      {
       "item_id": 5594
      },
      {
       "item_id": 6055
      },
      {
       "item_id": 6497
      },
      {
       "item_id": 6877
      },
      {
       "item_id": 7335
      },
      {
       "item_id": 7783
      },
      {
       "item_id": 8240
      },
      {
       "item_id": 8705
      },
      {
       "item_id": 9174
      },
      {
       "item_id": 9569
      },
      {
       "item_id": 10028
      },
      {
       "item_id": 10490
      },
      {
       "item_id": 10673
      },
      {
       "item_id": 10856
      },
      {
       "item_id": 11223
      },
      {
       "item_id": 11665
      },
      {
       "item_id": 12098
      },
      {
       "item_id": 12545
      },
      {
       "item_id": 12999
      },
      {
       "item_id": 13443
      },
      {
       "item_id": 13652
      },
      {
       "item_id": 14117
      },
      {
       "item_id": 14530
      },
      {
       "item_id": 15009
      },
      {
       "item_id": 15488
      },
      {
       "item_id": 15970
      },
      {
       "item_id": 16452
      },
      {
       "item_id": 16829
      },
      {
       "item_id": 17310
      },
      {
       "item_id": 17780
      },
      {
       "item_id": 18257
      },
      {
       "item_id": 18714
      },
      {
       "item_id": 19157
      },
      {
       "item_id": 19600
      },
      {
       "item_id": 20078
      },
      {
       "item_id": 20539
      },
      {
       "item_id": 21022
      },
      {
       "item_id": 21511
      },
      {
       "item_id": 22000
      },
      {
       "item_id": 22480
      },
      {
       "item_id": 22955
      },
      {
       "item_id": 23432
      },
      {
       "item_id": 23909
      },
      {
       "item_id": 24388
      },
      {
       "item_id": 24864
      },
      {
       "item_id": 25341
      },
      {
       "item_id": 25817
      },
      {
       "item_id": 26298
      },
      {
       "item_id": 26767
      },
      {
       "item_id": 27247
      },
      {
       "item_id": 27726
      },
      {
       "item_id": 28203
      },
      {
       "item_id": 28679
      },
      {
       "item_id": 29158
      },
      {
       "item_id": 29634
      },
      {
       "item_id": 30112
      },
      {
       "item_id": 30589
      },
      {
       "item_id": 31065
      },
      {
       "item_id": 31542
      },
      {
       "item_id": 32022
      },
      {
       "item_id": 32502
      },
      {
       "item_id": 32976
      },
      {
       "item_id": 33453
      },
      {
       "item_id": 33931
      },
      {
       "item_id": 34403
      },
      {
       "item_id": 34882
      },
      {
       "item_id": 35374
      },
      {
       "item_id": 35856
      },
      {
       "item_id": 36337
      },
      {
       "item_id": 36817
      },
      {
       "item_id": 37297
      },
      {
       "item_id": 37779
      },
      {
       "item_id": 38263
      },
      {
       "item_id": 38745
      },
      {
       "item_id": 39221
      },
      {
       "item_id": 39702
      },
      {
       "item_id": 40182
      },
      {
       "item_id": 40660
      },
      {
       "item_id": 41139
      },
      {
       "item_id": 41611
      },
      {
       "item_id": 42090
      },
      {
       "item_id": 42570
      },
      {
       "item_id": 43050
      },
      {
       "item_id": 43526
      },
      {
       "item_id": 44010
      },
      {
       "item_id": 44493
      },
      {
       "item_id": 44978
      },
      {
       "item_id": 45449
      },
      {
       "item_id": 45926
      },
      {
       "item_id": 46405
      },
      {
       "item_id": 46884
      },
      {
       "item_id": 47365
      },
      {
       "item_id": 47844
      },
      {
       "item_id": 48325
      },
      {
       "item_id": 48805
      },
      {
       "item_id": 49285
      },
      {
       "item_id": 49765
      },
      {
       "item_id": 50242
      },
      {
       "item_id": 50725
      },
      {
       "item_id": 51209
      },
      {
       "item_id": 51682
      },
      {
       "item_id": 52157
      },
      {
       "item_id": 52637
      },
      {
       "item_id": 53115
      },
      {
       "item_id": 53593
      },
      {
       "item_id": 54074
      },
      {
       "item_id": 54557
      },
      {
       "item_id": 55040
      },
      {
       "item_id": 55520
      },
      {
       "item_id": 56000
      },
      {
       "item_id": 56479
      },
      {
       "item_id": 56959
      },
      {
       "item_id": 57438
      },
      {
       "item_id": 57903
      }
     ]
    },
    "colab_type": "code",
    "collapsed": false,
    "executionInfo": {
     "elapsed": 25262335,
     "status": "ok",
     "timestamp": 1519954112179,
     "user": {
      "displayName": "Shuvendu Bikash",
      "photoUrl": "//lh6.googleusercontent.com/-qmLdelcDhNY/AAAAAAAAAAI/AAAAAAAAOyw/0BejXT-_QPo/s50-c-k-no/photo.jpg",
      "userId": "106434026064423574094"
     },
     "user_tz": -360
    },
    "id": "UM-ZZnr7yKAv",
    "outputId": "14fa8c6a-a9ee-46b9-94cc-48cd9b12f10a"
   },
   "outputs": [
    {
     "name": "stdout",
     "output_type": "stream",
     "text": [
      "This is the number of trainable weights before freezing the conv base: 4\n",
      "Epoch 1/10\n",
      "  533/12600 [>.............................] - ETA: 37:53 - loss: 3.9338 - categorical_accuracy: 0.0400 1502/12600 [==>...........................] - ETA: 34:45 - loss: 3.9186 - categorical_accuracy: 0.0414 2469/12600 [====>.........................] - ETA: 31:40 - loss: 3.9142 - categorical_accuracy: 0.0407 3438/12600 [=======>......................] - ETA: 28:38 - loss: 3.9101 - categorical_accuracy: 0.0411 4407/12600 [=========>....................] - ETA: 25:35 - loss: 3.9086 - categorical_accuracy: 0.0412 5374/12600 [===========>..................] - ETA: 22:34 - loss: 3.9067 - categorical_accuracy: 0.0416 6343/12600 [==============>...............] - ETA: 19:32 - loss: 3.9042 - categorical_accuracy: 0.0418 7310/12600 [================>.............] - ETA: 16:31 - loss: 3.9023 - categorical_accuracy: 0.0419 8279/12600 [==================>...........] - ETA: 13:29 - loss: 3.9012 - categorical_accuracy: 0.0420 9248/12600 [=====================>........] - ETA: 10:28 - loss: 3.9005 - categorical_accuracy: 0.042110225/12600 [=======================>......] - ETA: 7:24 - loss: 3.9003 - categorical_accuracy: 0.042211204/12600 [=========================>....] - ETA: 4:21 - loss: 3.9002 - categorical_accuracy: 0.042312183/12600 [============================>.] - ETA: 1:18 - loss: 3.9001 - categorical_accuracy: 0.042412600/12600 [==============================] - 2522s 200ms/step - loss: 3.9001 - categorical_accuracy: 0.0424 - val_loss: 3.8872 - val_categorical_accuracy: 0.0445\n",
      "Epoch 2/10\n",
      "  207/12600 [..............................] - ETA: 38:47 - loss: 3.9007 - categorical_accuracy: 0.0486 1176/12600 [=>............................] - ETA: 35:44 - loss: 3.8936 - categorical_accuracy: 0.0457 2145/12600 [====>.........................] - ETA: 32:43 - loss: 3.8904 - categorical_accuracy: 0.0461 3112/12600 [======>.......................] - ETA: 29:41 - loss: 3.8908 - categorical_accuracy: 0.0459 4081/12600 [========>.....................] - ETA: 26:39 - loss: 3.8910 - categorical_accuracy: 0.0459 5050/12600 [===========>..................] - ETA: 23:37 - loss: 3.8913 - categorical_accuracy: 0.0458 6019/12600 [=============>................] - ETA: 20:35 - loss: 3.8912 - categorical_accuracy: 0.0454 6988/12600 [===============>..............] - ETA: 17:32 - loss: 3.8917 - categorical_accuracy: 0.0448 7957/12600 [=================>............] - ETA: 14:31 - loss: 3.8935 - categorical_accuracy: 0.0448 8922/12600 [====================>.........] - ETA: 11:29 - loss: 3.8939 - categorical_accuracy: 0.0446 9896/12600 [======================>.......] - ETA: 8:27 - loss: 3.8946 - categorical_accuracy: 0.044310875/12600 [========================>.....] - ETA: 5:23 - loss: 3.8948 - categorical_accuracy: 0.044311854/12600 [===========================>..] - ETA: 2:19 - loss: 3.8947 - categorical_accuracy: 0.044212600/12600 [==============================] - 2523s 200ms/step - loss: 3.8951 - categorical_accuracy: 0.0441 - val_loss: 3.8988 - val_categorical_accuracy: 0.0431\n",
      "Epoch 3/10\n",
      "   86/12600 [..............................] - ETA: 39:13 - loss: 3.9164 - categorical_accuracy: 0.0418 1055/12600 [=>............................] - ETA: 36:12 - loss: 3.8935 - categorical_accuracy: 0.0447 2022/12600 [===>..........................] - ETA: 33:09 - loss: 3.8943 - categorical_accuracy: 0.0433 2991/12600 [======>.......................] - ETA: 30:07 - loss: 3.8943 - categorical_accuracy: 0.0430 3960/12600 [========>.....................] - ETA: 27:05 - loss: 3.8974 - categorical_accuracy: 0.0433 4927/12600 [==========>...................] - ETA: 24:03 - loss: 3.8970 - categorical_accuracy: 0.0431 5896/12600 [=============>................] - ETA: 21:01 - loss: 3.8976 - categorical_accuracy: 0.0434 6859/12600 [===============>..............] - ETA: 18:00 - loss: 3.8987 - categorical_accuracy: 0.0433 7824/12600 [=================>............] - ETA: 14:58 - loss: 3.8997 - categorical_accuracy: 0.0433 8793/12600 [===================>..........] - ETA: 11:56 - loss: 3.9010 - categorical_accuracy: 0.0430 9764/12600 [======================>.......] - ETA: 8:53 - loss: 3.9015 - categorical_accuracy: 0.043110739/12600 [========================>.....] - ETA: 5:49 - loss: 3.9022 - categorical_accuracy: 0.043011718/12600 [==========================>...] - ETA: 2:45 - loss: 3.9029 - categorical_accuracy: 0.043012600/12600 [==============================] - 2530s 201ms/step - loss: 3.9033 - categorical_accuracy: 0.0431 - val_loss: 3.9066 - val_categorical_accuracy: 0.0442\n",
      "Epoch 4/10\n",
      "   35/12600 [..............................] - ETA: 39:31 - loss: 3.9074 - categorical_accuracy: 0.0482 1004/12600 [=>............................] - ETA: 36:17 - loss: 3.9071 - categorical_accuracy: 0.0441 1973/12600 [===>..........................] - ETA: 33:16 - loss: 3.9034 - categorical_accuracy: 0.0429 2942/12600 [======>.......................] - ETA: 30:14 - loss: 3.9047 - categorical_accuracy: 0.0425 3911/12600 [========>.....................] - ETA: 27:13 - loss: 3.9066 - categorical_accuracy: 0.0429 4880/12600 [==========>...................] - ETA: 24:11 - loss: 3.9081 - categorical_accuracy: 0.0428 5849/12600 [============>.................] - ETA: 21:08 - loss: 3.9091 - categorical_accuracy: 0.0427 6818/12600 [===============>..............] - ETA: 18:06 - loss: 3.9089 - categorical_accuracy: 0.0429 7787/12600 [=================>............] - ETA: 15:04 - loss: 3.9098 - categorical_accuracy: 0.0431 8756/12600 [===================>..........] - ETA: 12:02 - loss: 3.9103 - categorical_accuracy: 0.0430 9728/12600 [======================>.......] - ETA: 8:59 - loss: 3.9109 - categorical_accuracy: 0.042810707/12600 [========================>.....] - ETA: 5:55 - loss: 3.9107 - categorical_accuracy: 0.042911686/12600 [==========================>...] - ETA: 2:51 - loss: 3.9112 - categorical_accuracy: 0.042912600/12600 [==============================] - 2527s 201ms/step - loss: 3.9116 - categorical_accuracy: 0.0427 - val_loss: 3.9111 - val_categorical_accuracy: 0.0427\n",
      "Epoch 5/10\n",
      "   23/12600 [..............................] - ETA: 39:11 - loss: 3.9305 - categorical_accuracy: 0.0353  990/12600 [=>............................] - ETA: 36:23 - loss: 3.9089 - categorical_accuracy: 0.0437 1957/12600 [===>..........................] - ETA: 33:22 - loss: 3.9138 - categorical_accuracy: 0.0437 2924/12600 [=====>........................] - ETA: 30:19 - loss: 3.9160 - categorical_accuracy: 0.0434 3893/12600 [========>.....................] - ETA: 27:17 - loss: 3.9173 - categorical_accuracy: 0.0431 4860/12600 [==========>...................] - ETA: 24:14 - loss: 3.9179 - categorical_accuracy: 0.0428 5829/12600 [============>.................] - ETA: 21:12 - loss: 3.9185 - categorical_accuracy: 0.0426 6798/12600 [===============>..............] - ETA: 18:09 - loss: 3.9170 - categorical_accuracy: 0.0427 7767/12600 [=================>............] - ETA: 15:07 - loss: 3.9174 - categorical_accuracy: 0.0426 8736/12600 [===================>..........] - ETA: 12:05 - loss: 3.9164 - categorical_accuracy: 0.0425 9708/12600 [======================>.......] - ETA: 9:03 - loss: 3.9171 - categorical_accuracy: 0.042610685/12600 [========================>.....] - ETA: 5:59 - loss: 3.9169 - categorical_accuracy: 0.042311661/12600 [==========================>...] - ETA: 2:56 - loss: 3.9166 - categorical_accuracy: 0.042212600/12600 [==============================] - 2525s 200ms/step - loss: 3.9160 - categorical_accuracy: 0.0422 - val_loss: 3.9102 - val_categorical_accuracy: 0.0408\n",
      "Epoch 6/10\n",
      "   15/12600 [..............................] - ETA: 39:23 - loss: 3.9021 - categorical_accuracy: 0.0417  984/12600 [=>............................] - ETA: 36:28 - loss: 3.9015 - categorical_accuracy: 0.0444 1953/12600 [===>..........................] - ETA: 33:24 - loss: 3.9060 - categorical_accuracy: 0.0445 2922/12600 [=====>........................] - ETA: 30:21 - loss: 3.9079 - categorical_accuracy: 0.0435 3887/12600 [========>.....................] - ETA: 27:19 - loss: 3.9071 - categorical_accuracy: 0.0432 4856/12600 [==========>...................] - ETA: 24:16 - loss: 3.9072 - categorical_accuracy: 0.0435 5821/12600 [============>.................] - ETA: 21:15 - loss: 3.9076 - categorical_accuracy: 0.0433 6788/12600 [===============>..............] - ETA: 18:13 - loss: 3.9083 - categorical_accuracy: 0.0433 7757/12600 [=================>............] - ETA: 15:10 - loss: 3.9082 - categorical_accuracy: 0.0432 8726/12600 [===================>..........] - ETA: 12:08 - loss: 3.9082 - categorical_accuracy: 0.0430 9698/12600 [======================>.......] - ETA: 9:05 - loss: 3.9078 - categorical_accuracy: 0.042910675/12600 [========================>.....] - ETA: 6:01 - loss: 3.9079 - categorical_accuracy: 0.043111654/12600 [==========================>...] - ETA: 2:57 - loss: 3.9081 - categorical_accuracy: 0.042712600/12600 [==============================] - 2527s 201ms/step - loss: 3.9085 - categorical_accuracy: 0.0427 - val_loss: 3.9133 - val_categorical_accuracy: 0.0431\n",
      "Epoch 7/10\n",
      "   13/12600 [..............................] - ETA: 39:28 - loss: 3.8792 - categorical_accuracy: 0.0505  978/12600 [=>............................] - ETA: 36:25 - loss: 3.9138 - categorical_accuracy: 0.0436 1945/12600 [===>..........................] - ETA: 33:22 - loss: 3.9079 - categorical_accuracy: 0.0439 2912/12600 [=====>........................] - ETA: 30:20 - loss: 3.9077 - categorical_accuracy: 0.0439 3881/12600 [========>.....................] - ETA: 27:18 - loss: 3.9120 - categorical_accuracy: 0.0438 4850/12600 [==========>...................] - ETA: 24:16 - loss: 3.9101 - categorical_accuracy: 0.0438 5819/12600 [============>.................] - ETA: 21:14 - loss: 3.9104 - categorical_accuracy: 0.0435 6788/12600 [===============>..............] - ETA: 18:12 - loss: 3.9113 - categorical_accuracy: 0.0434 7755/12600 [=================>............] - ETA: 15:10 - loss: 3.9105 - categorical_accuracy: 0.0434 8724/12600 [===================>..........] - ETA: 12:08 - loss: 3.9106 - categorical_accuracy: 0.0436 9694/12600 [======================>.......] - ETA: 9:05 - loss: 3.9106 - categorical_accuracy: 0.043710673/12600 [========================>.....] - ETA: 6:01 - loss: 3.9107 - categorical_accuracy: 0.043511652/12600 [==========================>...] - ETA: 2:58 - loss: 3.9116 - categorical_accuracy: 0.043512600/12600 [==============================] - 2527s 201ms/step - loss: 3.9114 - categorical_accuracy: 0.0435 - val_loss: 3.9197 - val_categorical_accuracy: 0.0427\n",
      "Epoch 8/10\n",
      "   12/12600 [..............................] - ETA: 39:46 - loss: 3.9330 - categorical_accuracy: 0.0417  979/12600 [=>............................] - ETA: 36:25 - loss: 3.9172 - categorical_accuracy: 0.0459 1946/12600 [===>..........................] - ETA: 33:21 - loss: 3.9133 - categorical_accuracy: 0.0453 2913/12600 [=====>........................] - ETA: 30:21 - loss: 3.9121 - categorical_accuracy: 0.0449 3880/12600 [========>.....................] - ETA: 27:18 - loss: 3.9125 - categorical_accuracy: 0.0448 4849/12600 [==========>...................] - ETA: 24:17 - loss: 3.9112 - categorical_accuracy: 0.0444 5814/12600 [============>.................] - ETA: 21:15 - loss: 3.9114 - categorical_accuracy: 0.0443 6783/12600 [===============>..............] - ETA: 18:13 - loss: 3.9119 - categorical_accuracy: 0.0442 7752/12600 [=================>............] - ETA: 15:11 - loss: 3.9119 - categorical_accuracy: 0.0442 8719/12600 [===================>..........] - ETA: 12:09 - loss: 3.9124 - categorical_accuracy: 0.0441 9691/12600 [======================>.......] - ETA: 9:06 - loss: 3.9126 - categorical_accuracy: 0.044110666/12600 [========================>.....] - ETA: 6:03 - loss: 3.9123 - categorical_accuracy: 0.044311643/12600 [==========================>...] - ETA: 2:59 - loss: 3.9121 - categorical_accuracy: 0.044412600/12600 [==============================] - 2527s 201ms/step - loss: 3.9126 - categorical_accuracy: 0.0443 - val_loss: 3.9263 - val_categorical_accuracy: 0.0422\n",
      "Epoch 9/10\n",
      "    8/12600 [..............................] - ETA: 40:12 - loss: 3.9518 - categorical_accuracy: 0.0430  977/12600 [=>............................] - ETA: 36:21 - loss: 3.9020 - categorical_accuracy: 0.0448 1946/12600 [===>..........................] - ETA: 33:20 - loss: 3.9084 - categorical_accuracy: 0.0457 2915/12600 [=====>........................] - ETA: 30:19 - loss: 3.9108 - categorical_accuracy: 0.0441 3884/12600 [========>.....................] - ETA: 27:16 - loss: 3.9103 - categorical_accuracy: 0.0446 4853/12600 [==========>...................] - ETA: 24:14 - loss: 3.9110 - categorical_accuracy: 0.0444 5822/12600 [============>.................] - ETA: 21:13 - loss: 3.9126 - categorical_accuracy: 0.0443 6791/12600 [===============>..............] - ETA: 18:11 - loss: 3.9139 - categorical_accuracy: 0.0443 7760/12600 [=================>............] - ETA: 15:09 - loss: 3.9146 - categorical_accuracy: 0.0440 8729/12600 [===================>..........] - ETA: 12:07 - loss: 3.9145 - categorical_accuracy: 0.0439 9699/12600 [======================>.......] - ETA: 9:04 - loss: 3.9151 - categorical_accuracy: 0.043910678/12600 [========================>.....] - ETA: 6:00 - loss: 3.9157 - categorical_accuracy: 0.043611657/12600 [==========================>...] - ETA: 2:57 - loss: 3.9166 - categorical_accuracy: 0.043612600/12600 [==============================] - 2526s 201ms/step - loss: 3.9173 - categorical_accuracy: 0.0435 - val_loss: 3.9401 - val_categorical_accuracy: 0.0404\n",
      "Epoch 10/10\n",
      "   14/12600 [..............................] - ETA: 39:33 - loss: 3.9585 - categorical_accuracy: 0.0603  983/12600 [=>............................] - ETA: 36:24 - loss: 3.9113 - categorical_accuracy: 0.0457 1950/12600 [===>..........................] - ETA: 33:22 - loss: 3.9163 - categorical_accuracy: 0.0451 2917/12600 [=====>........................] - ETA: 30:20 - loss: 3.9169 - categorical_accuracy: 0.0447 3886/12600 [========>.....................] - ETA: 27:18 - loss: 3.9177 - categorical_accuracy: 0.0444 4855/12600 [==========>...................] - ETA: 24:16 - loss: 3.9186 - categorical_accuracy: 0.0439 5824/12600 [============>.................] - ETA: 21:13 - loss: 3.9187 - categorical_accuracy: 0.0437 6793/12600 [===============>..............] - ETA: 18:11 - loss: 3.9190 - categorical_accuracy: 0.0437 7762/12600 [=================>............] - ETA: 15:09 - loss: 3.9196 - categorical_accuracy: 0.0438 8729/12600 [===================>..........] - ETA: 12:07 - loss: 3.9188 - categorical_accuracy: 0.0441 9699/12600 [======================>.......] - ETA: 9:04 - loss: 3.9188 - categorical_accuracy: 0.043810676/12600 [========================>.....] - ETA: 6:01 - loss: 3.9188 - categorical_accuracy: 0.043611655/12600 [==========================>...] - ETA: 2:57 - loss: 3.9189 - categorical_accuracy: 0.043612600/12600 [==============================] - 2527s 201ms/step - loss: 3.9184 - categorical_accuracy: 0.0437 - val_loss: 3.9313 - val_categorical_accuracy: 0.0422\n"
     ]
    }
   ],
   "source": [
    "conv_base.trainable = False\n",
    "print('This is the number of trainable weights before freezing the conv base:', len(model.trainable_weights))\n",
    "\n",
    "model.compile(\n",
    "    optimizer=optimizers.RMSprop(lr=1e-4), \n",
    "    loss=losses.categorical_crossentropy, \n",
    "    metrics=[metrics.categorical_accuracy]\n",
    ")\n",
    "\n",
    "history = model.fit_generator(train_generator, \n",
    "                              steps_per_epoch=12600, \n",
    "                              epochs=10, \n",
    "                              validation_data=test_generator, \n",
    "                              validation_steps=900)"
   ]
  },
  {
   "cell_type": "code",
   "execution_count": 0,
   "metadata": {
    "colab": {
     "autoexec": {
      "startup": false,
      "wait_interval": 0
     }
    },
    "colab_type": "code",
    "collapsed": true,
    "id": "8VJvyHZZDm5u"
   },
   "outputs": [],
   "source": [
    "model.save('model.h5')\n",
    "\n",
    "from google.colab import files\n",
    "files.download('model.h5')"
   ]
  },
  {
   "cell_type": "code",
   "execution_count": 0,
   "metadata": {
    "colab": {
     "autoexec": {
      "startup": false,
      "wait_interval": 0
     }
    },
    "colab_type": "code",
    "collapsed": true,
    "id": "yqffAegtyv7z"
   },
   "outputs": [],
   "source": [
    "import matplotlib.pyplot as plt\n",
    "\n",
    "acc = history.history['categorical_accuracy']\n",
    "val_acc = history.history['val_categorical_accuracy']\n",
    "loss = history.history['loss']\n",
    "val_loss = history.history['val_loss']\n",
    "\n",
    "epochs = range(1, len(acc)+1)\n",
    "\n",
    "plt.plot(epochs, acc, 'bo', label='Training acc')\n",
    "plt.plot(epochs, val_acc, 'b', label='Validation acc')\n",
    "plt.title('Training and validation accuracy')\n",
    "plt.legend()\n",
    "\n",
    "plt.figure()\n",
    "plt.plot(epochs, loss, 'bo', label='Training losses')\n",
    "plt.plot(epochs, val_loss, 'b', label='Validation losses')\n",
    "plt.title('Training and validation loss')\n",
    "plt.legend()\n",
    "\n",
    "plt.show()"
   ]
  },
  {
   "cell_type": "code",
   "execution_count": 0,
   "metadata": {
    "colab": {
     "autoexec": {
      "startup": false,
      "wait_interval": 0
     }
    },
    "colab_type": "code",
    "collapsed": true,
    "id": "nATvTbf4DzKR"
   },
   "outputs": [],
   "source": []
  }
 ],
 "metadata": {
  "accelerator": "GPU",
  "anaconda-cloud": {},
  "colab": {
   "collapsed_sections": [],
   "default_view": {},
   "name": "Classification.ipynb",
   "provenance": [],
   "version": "0.3.2",
   "views": {}
  },
  "kernelspec": {
   "display_name": "Python [conda env:Anaconda3]",
   "language": "python",
   "name": "conda-env-Anaconda3-py"
  }
 },
 "nbformat": 4,
 "nbformat_minor": 0
}
